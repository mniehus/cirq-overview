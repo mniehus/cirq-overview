{
 "cells": [
  {
   "cell_type": "markdown",
   "metadata": {},
   "source": [
    "# <p style=\"text-align: center;\"> Practical Quantum Computing with Cirq </p> \n",
    "<p style=\"text-align: center;\"> Ryan LaRose </p>\n",
    "<p style=\"text-align: center;\"> Department of Computational Mathematics, Science, and Engineering, Michigan State University </p>\n",
    "<p style=\"text-align: center;\"> Department of Physics and Astronomy, Michigan State University </p>"
   ]
  },
  {
   "cell_type": "markdown",
   "metadata": {},
   "source": [
    "### <p style=\"text-align: center;\"> Abstract </p> \n",
    "<p style=\"text-align: justify;\"> In July 2018, the <a href=\"https://quantumcomputingreport.com\">Quantum Computing Report</a> published an <a href=\"https://quantumcomputingreport.com/wp-content/uploads/2018/06/Overview-and-Comparison-of-Gate-Level-Quantum-Software-Platforms-Final-June-21-2018.pdf\">in-depth analysis of four major gate-model quantum software platforms</a>: pyQuil by Rigetti, QISKit by IBM, ProjectQ by ETH Zurich, and the Quantum Developer Kit by Microsoft. Shortly after, Google announced the release of their own quantum software platform: Cirq. In this paper, we provide an overview and comparative analysis of this newly-released software in reference to the previously-reviewed quantum software platforms. Our analysis proceeds similarly by covering language syntax through example programs, library support, quantum simulators, and quantum computer capabilities. We additionally cover more advanced features of the software including the strong support for variational quantum algorithms and near-term quantum computing. </p> "
   ]
  },
  {
   "cell_type": "markdown",
   "metadata": {},
   "source": [
    "# <p style=\"text-align: center;\"> Introduction </p> "
   ]
  },
  {
   "cell_type": "markdown",
   "metadata": {},
   "source": [
    "<p style=\"text-align: justify;\"> \n",
    "Quantum computing is transitioning from a theoretical to practical phase. Historically, researchers have asked questions about the possibilities of speedups through black-box access to abstract, idealized quantum computers. Recently, small, imperfect quantum computers have been fabricated and made available over the cloud. A significant body of literature is emerging as researchers use these devices to solve problems in nuclear physics [Nuc Phys Paper], quantum chemistry [VQE], condensed matter [VQSD], optimization [QAOA], number theory [VQF], graph theory [QAOA on MAXCUT], and even quantum computing itself [QAQC et al.]. While these problems are small and easily handled by conventional computers, the prospect of large-scale quantum computers could quickly change this. Even on current quantum computers, certain contrived problems may soon demonstrate \"quantum supremacy\" [Quant Suprem Paper], an exciting landmark in the history of computation. \n",
    "</p>\n",
    "\n",
    "<p style=\"text-align: justify;\"> \n",
    "This theoretical-to-practical progression of the field necessitates access to quantum computers that is much different from black box access on pen and paper. Many institutions in industry and academia have recognized this and began building tools for this purpose, and a slew of startup companies has emerged to fill the gaps in the transition to practical quantum computing. The following diagram represents a snapshot of this rapidly evolving landscape:\n",
    "</p>\n",
    "\n",
    "<p style=\"text-align: justify;\"> \n",
    "For most \"full-stack\" quantum computing companies, access to quantum computers is granted over the cloud, and the interaction between research scientists and quantum computers is mediated by a software platform with API access. To an outside observer, this interaction does not warrant much thought: it just needs to allow users to implement quantum gates on qubits. However, many practical considerations emerge when using a software interface to communicate with a real or simulated quantum computer. Among these are the following:\n",
    "</p>\n",
    "\n",
    "1. What _classical_ programming language is the software written in?\n",
    "1. What gate operations are natively built-in?\n",
    "1. Can a gate that's not native be implemented into a quantum algorithm? How difficult is it to do this?\n",
    "1. How many quantum computers does the platform give access to?\n",
    "1. Is compilation handled automatically by the software? And to what degree of optimality?\n",
    "1. How do job requests to quantum computers get handled? In a queue, dedicated time?\n",
    "1. What quantum computer simulators can be used to test algorithms? How many qubits can be simulated? Is the simulator noisy or noiseless?\n",
    "1. Does every quantum algorithm have to be programmed manually? Or are some common subroutines built-in?\n",
    "1. How easy is it to create, work with, and manipulate quantum circuits?\n",
    "1. How easy is it to parametrize algorithms for near-term quantum computing?\n",
    "\n",
    "<p style=\"text-align: justify;\"> \n",
    "Each of these considerations is important from a practical perspective. For example, an algorithm on many qubits may be better implemented on a software platform with a more high-performance simulator; an algorithm with many gates may be better for a platform with higher fidelity qubits; an algorithm with many non-standard gates may be better for a platform with an optimal compiler. Other considerations such as examples, tutorials, and documentation are equally important as they help bring in new users and answer questions of experienced users.\n",
    "</p>\n",
    "\n",
    "<p style=\"text-align: justify;\"> \n",
    "For these reasons, it is both valid and important to evaluate quantum software platforms as more than the simple interface they may appear to be. To this end, the Quantum Computing Report published an article comparing Forest by Rigetti, QISKit by IBM, ProjectQ by ETH Zurich, and the Quantum Developer Kit by Microsoft. Each platform was found to have different strengths and different emphases that determined the set of problems best-suited for the environment. The purpose of this article is to introduce and analyze Cirq in a similar fashion.\n",
    "</p>\n",
    "\n",
    "<p style=\"text-align: justify;\"> \n",
    "To this end, the rest of the article is organized as follows. After briefly commenting on the format of this article, we cover installation, documentation, language syntax, and quantum computer/simulator support in Cirq. We then transition into more advanced features like circuit manipulation and optimization. Lastly, we conclude with an example of a variational quantum algorithm to demonstrate the near-term capabilities of Cirq. Throughout, we refer back to previously covered software platforms to maintain the comparative analysis in our previous installation.\n",
    "</p>\n",
    "\n",
    "\n",
    "\n",
    "\n",
    "\n",
    "\n",
    "\n",
    "\n",
    "\n"
   ]
  },
  {
   "cell_type": "markdown",
   "metadata": {},
   "source": [
    "## <p style=\"text-align: center;\"> Format of the Article </p> "
   ]
  },
  {
   "cell_type": "markdown",
   "metadata": {},
   "source": [
    "<p style=\"text-align: justify;\"> \n",
    "This article was written as a Jupyter Notebook and exported as an HTML file. The HTML file is hosted on the [Quantum Computing Report website](https://quantumcomputingreport.com) and the Jupyter notebook is hosted on [GitHub](https://github.com/rmlarose). In the HTML version, all code and all outputs are visible in the article, but the code is not able to run. To interactively run the code while reading through the article, see the Jupyter Notebook version. In order to run the code, a working installation of Cirq is required (see _Installation_ below). The article also assumes basic familarity with quantum computing, for which many good [resources](https://quantumcomputingreport.com/resources/education/) now exist.\n",
    "</p>"
   ]
  },
  {
   "cell_type": "markdown",
   "metadata": {},
   "source": [
    "# <p style=\"text-align: center;\"> The Basics of Cirq </p> "
   ]
  },
  {
   "cell_type": "markdown",
   "metadata": {},
   "source": [
    "<p style=\"text-align: justify;\"> \n",
    "Cirq is an open-source Python framework for \"creating, editing, and invoking Noisy Intermediate-Scale Quantum (NISQ) circuits.\" The first version of the software was publicly released in August 2018; the code is still in alpha testing and under development. As such, some features or code included in this article may need modifications for future versions of Cirq. This article should be considered a review for the version of Cirq at the time of writing, which is listed in the table below. (Note that the Jupyter Notebook version of this article, hosted online at [GitHub](https://github.com/rmlarose), will be kept up to date for future versions of Cirq.)\n",
    "</p>"
   ]
  },
  {
   "cell_type": "markdown",
   "metadata": {},
   "source": [
    "### <p style=\"text-align: center;\"> Installation </p> "
   ]
  },
  {
   "cell_type": "markdown",
   "metadata": {},
   "source": [
    "The easiest way to install `Cirq` is by using pip via\n",
    "\n",
    "```\n",
    "pip install cirq\n",
    "```\n",
    "\n",
    "at a command line. Alternatively, the source code for Cirq can be obtained from [https://github.com/quantumlib/Cirq](https://github.com/quantumlib/Cirq). For complete installation instructions on multiple platforms, see the documentation at [https://cirq.readthedocs.io/en/latest/install.html](https://cirq.readthedocs.io/en/latest/install.html). Readers who simply wish to read the article can ignore this step."
   ]
  },
  {
   "cell_type": "markdown",
   "metadata": {},
   "source": [
    "### <p style=\"text-align: center;\"> Documentation and Tutorials </p> "
   ]
  },
  {
   "cell_type": "markdown",
   "metadata": {},
   "source": [
    "<p style=\"text-align: justify;\"> \n",
    "The documentation for Cirq, linked above, contains instructions on installation for all three major operatings systems, an in-depth tutorial for the variational quantum eigensolver, and details on three major components of the Cirq library: circuits, gates, and simulation. In addition, the section on _Schedules and Devices_ details how Cirq can be used with specific quantum hardware and reflects the emphasis on near-term quantum computing. The documentation also contains a detailed API reference for the entire library and development guidelines for those who may want to contribute to the source code.\n",
    "</p>"
   ]
  },
  {
   "cell_type": "markdown",
   "metadata": {},
   "source": [
    "### <p style=\"text-align: center;\"> Language Syntax </p> "
   ]
  },
  {
   "cell_type": "markdown",
   "metadata": {},
   "source": [
    "<p style=\"text-align: justify;\"> \n",
    "As in our previous coverage of quantum software platforms, we include example programs to demonstrate the language syntax. Below, we implement the \"quantum random bit generator\" algorithm. To use the functionality of Cirq, we first import the library (and additional libraries we'll use throughout the article).\n",
    "</p>"
   ]
  },
  {
   "cell_type": "code",
   "execution_count": 89,
   "metadata": {},
   "outputs": [],
   "source": [
    "\"\"\"All imports for the article.\"\"\"\n",
    "import cirq\n",
    "\n",
    "import matplotlib.pyplot as plt\n",
    "import numpy as np"
   ]
  },
  {
   "cell_type": "markdown",
   "metadata": {},
   "source": [
    "In what follows we create a circuit and instantiate it with the operations for the algorithm (Hadamard and measure)."
   ]
  },
  {
   "cell_type": "code",
   "execution_count": 90,
   "metadata": {},
   "outputs": [],
   "source": [
    "\"\"\"Create a random number generator circuit using Cirq.\"\"\"\n",
    "\n",
    "# get a qubit register\n",
    "qbits = [cirq.LineQubit(0)]\n",
    "\n",
    "# get a quantum circuit\n",
    "circ = cirq.Circuit()\n",
    "\n",
    "# add the instructions to the circuit\n",
    "circ.append([cirq.H(qbits[0]), cirq.measure(qbits[0], key=\"z\")])"
   ]
  },
  {
   "cell_type": "markdown",
   "metadata": {},
   "source": [
    "<p style=\"text-align: justify;\"> \n",
    "Note that Cirq defines qubits to be `LineQubit`s or `GridQubit`s, since these are common constructions in NISQ computers. The former is indexed by one integer, as we have done in Line 4 above, and the latter by two (x, y coordinates). Qubits are commonly defined in lists (or generally iterables) for easy indexing in algorithms. In Line 7 above we instantiate a circuit, and in Line 10 we append the instructions for the algorithm. (There are multiple ways to add instructions to an algorithm in Cirq. For most of this article, we'll stick to the above method for simplicity.)\n",
    "</p>\n",
    "\n",
    "<p style=\"text-align: justify;\"> \n",
    "The Cirq library provides text diagram representation of quantum circuits, which can be visualized by printing out the circuit:\n",
    "</p>"
   ]
  },
  {
   "cell_type": "code",
   "execution_count": 91,
   "metadata": {},
   "outputs": [
    {
     "name": "stdout",
     "output_type": "stream",
     "text": [
      "0: ───H───M('z')───\n"
     ]
    }
   ],
   "source": [
    "\"\"\"Print out the random number generator circuit.\"\"\"\n",
    "print(circ)"
   ]
  },
  {
   "cell_type": "markdown",
   "metadata": {},
   "source": [
    "<p style=\"text-align: justify;\"> \n",
    "While these diagrams are not of publication quality like those that can be made in ProjectQ or even QISKit, they are a useful tool for verifying correctness of quantum circuits and debugging. Note that measurements are made with a `key` to easily access the results of running the circuit, as we will see below.\n",
    "</p>"
   ]
  },
  {
   "cell_type": "markdown",
   "metadata": {},
   "source": [
    "### <p style=\"text-align: center;\"> Quantum Computers </p> "
   ]
  },
  {
   "cell_type": "markdown",
   "metadata": {},
   "source": [
    "Cirq does not currently provide cloud access to it's quantum computers for general users. Indeed, as per the documentation in [Cirq's engine class](https://github.com/quantumlib/Cirq/blob/master/cirq/google/engine/engine.py):"
   ]
  },
  {
   "cell_type": "markdown",
   "metadata": {},
   "source": [
    "<blockquote cite=\"\">\n",
    "In order to run on[e] must have access to the Quantum Engine API. Access to this\n",
    "API is (as of June 22, 2018) restricted to invitation only.\n",
    "</blockquote>\n"
   ]
  },
  {
   "cell_type": "markdown",
   "metadata": {},
   "source": [
    "Nonetheless, Google indeed has in-house quantum computers that have been stated to be made available via Cirq in the near future. Cirq already provides details on these devices. For instance, the architecture of the 22-qubit FoxTail computer can be printed out in Cirq by doing:"
   ]
  },
  {
   "cell_type": "code",
   "execution_count": 92,
   "metadata": {
    "scrolled": true
   },
   "outputs": [
    {
     "name": "stdout",
     "output_type": "stream",
     "text": [
      "FoxTail has 22 qubits arranged in the following topology:\n",
      "\n",
      "(0, 0)───(0, 1)───(0, 2)───(0, 3)───(0, 4)───(0, 5)───(0, 6)───(0, 7)───(0, 8)───(0, 9)───(0, 10)\n",
      "│        │        │        │        │        │        │        │        │        │        │\n",
      "│        │        │        │        │        │        │        │        │        │        │\n",
      "(1, 0)───(1, 1)───(1, 2)───(1, 3)───(1, 4)───(1, 5)───(1, 6)───(1, 7)───(1, 8)───(1, 9)───(1, 10)\n"
     ]
    }
   ],
   "source": [
    "\"\"\"Print out the architecture of the FoxTail quantum computer.\"\"\"\n",
    "print(\"FoxTail has {} qubits arranged in the following topology:\\n\".format(len(cirq.google.Foxtail.qubits)))\n",
    "print(cirq.google.Foxtail)"
   ]
  },
  {
   "cell_type": "markdown",
   "metadata": {},
   "source": [
    "The 72-qubit Bristlecone computer, with which quantum supremacy may be demonstrated on, can be displayed similarly:"
   ]
  },
  {
   "cell_type": "code",
   "execution_count": 93,
   "metadata": {},
   "outputs": [
    {
     "name": "stdout",
     "output_type": "stream",
     "text": [
      "Bristlecone has 72 qubits arranged in the following topology:\n",
      "\n",
      "                                             (0, 5)────(0, 6)\n",
      "                                             │         │\n",
      "                                             │         │\n",
      "                                    (1, 4)───(1, 5)────(1, 6)────(1, 7)\n",
      "                                    │        │         │         │\n",
      "                                    │        │         │         │\n",
      "                           (2, 3)───(2, 4)───(2, 5)────(2, 6)────(2, 7)───(2, 8)\n",
      "                           │        │        │         │         │        │\n",
      "                           │        │        │         │         │        │\n",
      "                  (3, 2)───(3, 3)───(3, 4)───(3, 5)────(3, 6)────(3, 7)───(3, 8)───(3, 9)\n",
      "                  │        │        │        │         │         │        │        │\n",
      "                  │        │        │        │         │         │        │        │\n",
      "         (4, 1)───(4, 2)───(4, 3)───(4, 4)───(4, 5)────(4, 6)────(4, 7)───(4, 8)───(4, 9)───(4, 10)\n",
      "         │        │        │        │        │         │         │        │        │        │\n",
      "         │        │        │        │        │         │         │        │        │        │\n",
      "(5, 0)───(5, 1)───(5, 2)───(5, 3)───(5, 4)───(5, 5)────(5, 6)────(5, 7)───(5, 8)───(5, 9)───(5, 10)───(5, 11)\n",
      "         │        │        │        │        │         │         │        │        │        │\n",
      "         │        │        │        │        │         │         │        │        │        │\n",
      "         (6, 1)───(6, 2)───(6, 3)───(6, 4)───(6, 5)────(6, 6)────(6, 7)───(6, 8)───(6, 9)───(6, 10)\n",
      "                  │        │        │        │         │         │        │        │\n",
      "                  │        │        │        │         │         │        │        │\n",
      "                  (7, 2)───(7, 3)───(7, 4)───(7, 5)────(7, 6)────(7, 7)───(7, 8)───(7, 9)\n",
      "                           │        │        │         │         │        │\n",
      "                           │        │        │         │         │        │\n",
      "                           (8, 3)───(8, 4)───(8, 5)────(8, 6)────(8, 7)───(8, 8)\n",
      "                                    │        │         │         │\n",
      "                                    │        │         │         │\n",
      "                                    (9, 4)───(9, 5)────(9, 6)────(9, 7)\n",
      "                                             │         │\n",
      "                                             │         │\n",
      "                                             (10, 5)───(10, 6)\n"
     ]
    }
   ],
   "source": [
    "\"\"\"Print out the architecture of the Bristlecone quantum computer.\"\"\"\n",
    "print(\"Bristlecone has {} qubits arranged in the following topology:\\n\".format(len(cirq.google.Bristlecone.qubits)))\n",
    "print(cirq.google.Bristlecone)"
   ]
  },
  {
   "cell_type": "markdown",
   "metadata": {},
   "source": [
    "It should be noted that Cirq provides built-in functionality to convert it's circuits to OpenQASM code:"
   ]
  },
  {
   "cell_type": "code",
   "execution_count": 94,
   "metadata": {
    "scrolled": true
   },
   "outputs": [
    {
     "name": "stdout",
     "output_type": "stream",
     "text": [
      "// Generated from Cirq\n",
      "\n",
      "OPENQASM 2.0;\n",
      "include \"qelib1.inc\";\n",
      "\n",
      "\n",
      "// Qubits: [0]\n",
      "qreg q[1];\n",
      "creg m_z[1];\n",
      "\n",
      "\n",
      "h q[0];\n",
      "measure q[0] -> m_z[0];\n",
      "\n"
     ]
    }
   ],
   "source": [
    "\"\"\"Generate and print out the OpenQASM code for the random number generator circuit.\"\"\"\n",
    "print(circ.to_qasm())"
   ]
  },
  {
   "cell_type": "markdown",
   "metadata": {},
   "source": [
    "This functionality makes it very simple to run algorithms generated in Cirq on IBM's quantum computers."
   ]
  },
  {
   "cell_type": "markdown",
   "metadata": {},
   "source": [
    "### <p style=\"text-align: center;\"> Quantum Simulators </p> "
   ]
  },
  {
   "cell_type": "markdown",
   "metadata": {},
   "source": [
    "Although quantum computer access is currently restricted, Cirq provides a quantum computer simulator, the `XmonSimulator`, to execute quantum algorithms. To do so with the random bit generator circuit above, we can do the following:"
   ]
  },
  {
   "cell_type": "code",
   "execution_count": 101,
   "metadata": {
    "scrolled": true
   },
   "outputs": [
    {
     "name": "stdout",
     "output_type": "stream",
     "text": [
      "Counter({1: 26, 0: 24})\n"
     ]
    }
   ],
   "source": [
    "\"\"\"Run the random number generator on the XmonSimulator.\"\"\"\n",
    "# get a simulator\n",
    "simulator = cirq.google.XmonSimulator()\n",
    "\n",
    "# run the circuit\n",
    "out = simulator.run(circ, repetitions=50)\n",
    "\n",
    "# get the results and display them\n",
    "results = out.histogram(key=\"z\")\n",
    "print(results)"
   ]
  },
  {
   "cell_type": "markdown",
   "metadata": {},
   "source": [
    "The output is returned as a `Counter` object (Python built-in in the `collections` library) that displays key-value pairs corresponding to the output and number of times that output was recored. Cirq also provides the function `plot_state_histogram` to visualize the output distribution:"
   ]
  },
  {
   "cell_type": "code",
   "execution_count": 102,
   "metadata": {},
   "outputs": [
    {
     "data": {
      "image/png": "[encoded data removed]",
      "text/plain": [
       "<Figure size 432x288 with 1 Axes>"
      ]
     },
     "metadata": {},
     "output_type": "display_data"
    },
    {
     "name": "stdout",
     "output_type": "stream",
     "text": [
      "counts = [24. 26.]\n"
     ]
    }
   ],
   "source": [
    "\"\"\"Display the output distribution of a cirq.TrialResult.\"\"\"\n",
    "counts = cirq.plot_state_histogram(out)\n",
    "print(\"counts =\", counts)"
   ]
  },
  {
   "cell_type": "markdown",
   "metadata": {},
   "source": [
    "# <p style=\"text-align: center;\"> Manipulating Circuits </p> "
   ]
  },
  {
   "cell_type": "markdown",
   "metadata": {},
   "source": [
    "Cirq provides many tools for working with and manipulating quantum ciruicts. By \"manipulating quantum circuits,\" we mean operations of the following form:\n",
    "\n",
    "* Creating quantum circuits.\n",
    "* Inserting instructions in a circuit.\n",
    "* Removing instructions from a circuit.\n",
    "* Simplifying a circuit.\n",
    "* Running a quantum circuit."
   ]
  },
  {
   "cell_type": "code",
   "execution_count": 80,
   "metadata": {},
   "outputs": [],
   "source": [
    "\n",
    "# one qubit operations dictionary\n",
    "oneq_ops = {1 : cirq.X,\n",
    "            2 : cirq.Y,\n",
    "            3 : cirq.Z,\n",
    "            4 : cirq.H,\n",
    "            5 : cirq.X ** 0.5,\n",
    "            6 : cirq.T}\n",
    "\n",
    "# two qubit operations dictionary\n",
    "\n",
    "def random_circuit(num_qubits, depth, \n",
    "                   oneq_ops_dict=oneq_ops):\n",
    "    # get some qubits and a circuit\n",
    "    qbits = [cirq.LineQubit(x) for x in range(num_qubits)]\n",
    "    circ = cirq.Circuit()\n",
    "    \n",
    "    for _ in range(depth):\n",
    "        op_keys = np.random.randint(1, len(oneq_ops) + 1, num_qubits)\n",
    "        circ.append(\n",
    "            [oneq_ops[key](q) for (q, key) in enumerate(op_keys)],\n",
    "            strategy=cirq.InsertStrategy.EARLIEST\n",
    "            )\n",
    "        \n",
    "    return circ"
   ]
  },
  {
   "cell_type": "code",
   "execution_count": 81,
   "metadata": {},
   "outputs": [],
   "source": [
    "circ = random_circuit(4, 8)"
   ]
  },
  {
   "cell_type": "code",
   "execution_count": 82,
   "metadata": {},
   "outputs": [
    {
     "name": "stdout",
     "output_type": "stream",
     "text": [
      "0: ───X^0.5───Y───────X^0.5───Z───────X^0.5───Z───X^0.5───T───────\n",
      "\n",
      "1: ───H───────X^0.5───Y───────X^0.5───Z───────X───H───────H───────\n",
      "\n",
      "2: ───Y───────H───────X^0.5───X^0.5───X───────H───Y───────X^0.5───\n",
      "\n",
      "3: ───T───────X───────H───────X^0.5───Y───────H───X───────X───────\n"
     ]
    }
   ],
   "source": [
    "print(circ)"
   ]
  },
  {
   "cell_type": "code",
   "execution_count": 83,
   "metadata": {},
   "outputs": [],
   "source": [
    "opt = cirq.OptimizationPass()"
   ]
  },
  {
   "cell_type": "code",
   "execution_count": 84,
   "metadata": {},
   "outputs": [],
   "source": [
    "opt.optimize_circuit(circ)"
   ]
  },
  {
   "cell_type": "code",
   "execution_count": 85,
   "metadata": {},
   "outputs": [
    {
     "name": "stdout",
     "output_type": "stream",
     "text": [
      "0: ───X^0.5───Y───────X^0.5───Z───────X^0.5───Z───X^0.5───T───────\n",
      "\n",
      "1: ───H───────X^0.5───Y───────X^0.5───Z───────X───H───────H───────\n",
      "\n",
      "2: ───Y───────H───────X^0.5───X^0.5───X───────H───Y───────X^0.5───\n",
      "\n",
      "3: ───T───────X───────H───────X^0.5───Y───────H───X───────X───────\n"
     ]
    }
   ],
   "source": [
    "print(circ)"
   ]
  },
  {
   "cell_type": "markdown",
   "metadata": {},
   "source": [
    "Let's first look at `LineQubit`'s and how to declare them."
   ]
  },
  {
   "cell_type": "code",
   "execution_count": 84,
   "metadata": {},
   "outputs": [],
   "source": [
    "# get a list of qubits with linear indices\n",
    "line_qubits = [cirq.LineQubit(k) for k in range(16)]"
   ]
  },
  {
   "cell_type": "markdown",
   "metadata": {},
   "source": [
    "The class ```LineQubit``` allows the user to get the index of the qubit with the instance ```LineQubit.x``` as shown below."
   ]
  },
  {
   "cell_type": "code",
   "execution_count": 87,
   "metadata": {
    "scrolled": true
   },
   "outputs": [
    {
     "name": "stdout",
     "output_type": "stream",
     "text": [
      "4\n"
     ]
    }
   ],
   "source": [
    "print(line_qubits[4].x)"
   ]
  },
  {
   "cell_type": "markdown",
   "metadata": {},
   "source": [
    "The `is_adjacent()` method provides information about qubit connectivity."
   ]
  },
  {
   "cell_type": "code",
   "execution_count": 88,
   "metadata": {},
   "outputs": [
    {
     "name": "stdout",
     "output_type": "stream",
     "text": [
      "Qubit 0 is adjacent to qubit 1? True\n",
      "Qubit 0 is adjacent to qubit 4? False\n"
     ]
    }
   ],
   "source": [
    "# qubit 0 is adjacent to qubit 1 with linear connectivity\n",
    "print(\"Qubit 0 is adjacent to qubit 1?\", qubits[0].is_adjacent(qubits[1]))\n",
    "\n",
    "# qubit 0 is NOT adjacent to qubit 4 on linear connectivity\n",
    "print(\"Qubit 0 is adjacent to qubit 4?\", qubits[0].is_adjacent(qubits[4]))"
   ]
  },
  {
   "cell_type": "markdown",
   "metadata": {},
   "source": [
    "For `LineQubit`s, it's obvious what qubits are adjacent, but this method is particularly useful for qubits arranged in a grid, which we'll look at below."
   ]
  },
  {
   "cell_type": "markdown",
   "metadata": {},
   "source": [
    "### GridQubits"
   ]
  },
  {
   "cell_type": "markdown",
   "metadata": {},
   "source": [
    "In addition to linear topologies, qubits arranged in a grid are also popular for near-term quantum computing hardware. The `GridQubit` class in Cirq is designed to work with such quantum computers.\n",
    "\n",
    "To create a list of sixteen `GridQubit`s, we can do the following:"
   ]
  },
  {
   "cell_type": "code",
   "execution_count": 89,
   "metadata": {},
   "outputs": [],
   "source": [
    "grid_qubits = [cirq.GridQubit(x, y) for x in range(4) for y in range(4)]"
   ]
  },
  {
   "cell_type": "markdown",
   "metadata": {},
   "source": [
    "Because they are two-dimensional, `GridQubit`s have `row` and `col` indices instead of just one index `x` for `LineQubit`s."
   ]
  },
  {
   "cell_type": "code",
   "execution_count": 90,
   "metadata": {},
   "outputs": [
    {
     "name": "stdout",
     "output_type": "stream",
     "text": [
      "Location (row, col) of qubits[4] = (1, 0)\n"
     ]
    }
   ],
   "source": [
    "print(\"Location (row, col) of qubits[4] = ({}, {})\".format(grid_qubits[4].row, grid_qubits[4].col))"
   ]
  },
  {
   "cell_type": "markdown",
   "metadata": {},
   "source": [
    "Similarly to `LineQubit`s, `is_adjacent()` is also a method for `GridQubit`s."
   ]
  },
  {
   "cell_type": "code",
   "execution_count": 91,
   "metadata": {},
   "outputs": [
    {
     "name": "stdout",
     "output_type": "stream",
     "text": [
      "Qubit 0 is adjacent to qubit 1? True\n",
      "Qubit 0 is adjacent to qubit 4? True\n"
     ]
    }
   ],
   "source": [
    "# qubit 0 is adjacent to qubit 1 with linear connectivity\n",
    "print(\"Qubit 0 is adjacent to qubit 1?\", grid_qubits[0].is_adjacent(grid_qubits[1]))\n",
    "\n",
    "# qubit 0 is NOT adjacent to qubit 4 on linear connectivity\n",
    "print(\"Qubit 0 is adjacent to qubit 4?\", grid_qubits[0].is_adjacent(grid_qubits[4]))"
   ]
  },
  {
   "cell_type": "markdown",
   "metadata": {},
   "source": [
    "In contrast to the linear topology, here we see that the fourth qubit is adjacent to the zeroth qubit on a grid."
   ]
  },
  {
   "cell_type": "markdown",
   "metadata": {},
   "source": [
    "## Creating Circuits"
   ]
  },
  {
   "cell_type": "markdown",
   "metadata": {},
   "source": [
    "We can actually create circuits in Cirq without any reference to qubits. For example, we can create a circuit by writing:"
   ]
  },
  {
   "cell_type": "code",
   "execution_count": 141,
   "metadata": {},
   "outputs": [],
   "source": [
    "# generic circuit\n",
    "circ = cirq.Circuit()"
   ]
  },
  {
   "cell_type": "markdown",
   "metadata": {},
   "source": [
    "This gives us a `Circuit` object. Right now, there are no qubits associated with our circuit:"
   ]
  },
  {
   "cell_type": "code",
   "execution_count": 142,
   "metadata": {
    "scrolled": true
   },
   "outputs": [
    {
     "name": "stdout",
     "output_type": "stream",
     "text": [
      "frozenset()\n"
     ]
    }
   ],
   "source": [
    "print(circ.all_qubits())"
   ]
  },
  {
   "cell_type": "markdown",
   "metadata": {},
   "source": [
    "Qubits get added to our circuit dynamically as we add operations. An __operation__ in Cirq is \"an effect on a collection of qubits.\" For example, \"do the Hadamard gate on _this qubit_\" in an example of an operation:"
   ]
  },
  {
   "cell_type": "code",
   "execution_count": 143,
   "metadata": {},
   "outputs": [
    {
     "name": "stdout",
     "output_type": "stream",
     "text": [
      "H(0)\n",
      "cirq.ops.gate_operation.GateOperation\n"
     ]
    }
   ],
   "source": [
    "# create the operation of hadamard on line_qubits[0]\n",
    "operation = cirq.ops.H(line_qubits[0])\n",
    "\n",
    "# print out the operation and its type\n",
    "print(operation)\n",
    "print(type(operation))"
   ]
  },
  {
   "cell_type": "markdown",
   "metadata": {},
   "source": [
    "The output \"H(0)\" is Cirq's language of describing what the operation does: a Hadamard gate on the qubit indexed by 0. The `type` of our operation is a `GateOperation`, the most common type of operation in Cirq.\n",
    "\n",
    "Now that we have an operation, we can add it to our circuit. There are many ways of doing this in `Cirq`. For now, we'll use the `append()` method."
   ]
  },
  {
   "cell_type": "code",
   "execution_count": 144,
   "metadata": {
    "scrolled": true
   },
   "outputs": [],
   "source": [
    "# add the operation to the circuit\n",
    "circ.append(operation)"
   ]
  },
  {
   "cell_type": "markdown",
   "metadata": {},
   "source": [
    "After doing so, we can verify that our circuit now has qubits associated with it."
   ]
  },
  {
   "cell_type": "code",
   "execution_count": 145,
   "metadata": {
    "scrolled": true
   },
   "outputs": [
    {
     "name": "stdout",
     "output_type": "stream",
     "text": [
      "frozenset({LineQubit(0)})\n"
     ]
    }
   ],
   "source": [
    "# print out all the qubits in the circuit\n",
    "print(circ.all_qubits())"
   ]
  },
  {
   "cell_type": "markdown",
   "metadata": {},
   "source": [
    "We can even access all of the operations in the circuit using the `all_operations()` method. Note that this method returns a generator object in Python."
   ]
  },
  {
   "cell_type": "code",
   "execution_count": 146,
   "metadata": {
    "scrolled": true
   },
   "outputs": [
    {
     "name": "stdout",
     "output_type": "stream",
     "text": [
      "[GateOperation(H, (LineQubit(0),))]\n"
     ]
    }
   ],
   "source": [
    "# print out all the operations in the circuit\n",
    "print([op for op in circ.all_operations()])"
   ]
  },
  {
   "cell_type": "markdown",
   "metadata": {},
   "source": [
    "Cirq even provides a built-in ASCII circuit drawer to visualize the circuit diagram, which is useful to do in many situations."
   ]
  },
  {
   "cell_type": "code",
   "execution_count": 147,
   "metadata": {
    "scrolled": true
   },
   "outputs": [
    {
     "name": "stdout",
     "output_type": "stream",
     "text": [
      "0: ───H───\n"
     ]
    }
   ],
   "source": [
    "# print out an ASCII drawing of the circuit diagram\n",
    "print(circ)"
   ]
  },
  {
   "cell_type": "markdown",
   "metadata": {},
   "source": [
    "To add more operations to our circuit, we can use the append method again:"
   ]
  },
  {
   "cell_type": "code",
   "execution_count": 148,
   "metadata": {},
   "outputs": [],
   "source": [
    "# add a measurement\n",
    "circ.append(cirq.ops.measure(line_qubits[0], key=\"z\"))"
   ]
  },
  {
   "cell_type": "markdown",
   "metadata": {},
   "source": [
    "When we print out the circuit now, we see:"
   ]
  },
  {
   "cell_type": "code",
   "execution_count": 149,
   "metadata": {
    "scrolled": true
   },
   "outputs": [
    {
     "name": "stdout",
     "output_type": "stream",
     "text": [
      "0: ───H───M('z')───\n"
     ]
    }
   ],
   "source": [
    "print(circ)"
   ]
  },
  {
   "cell_type": "markdown",
   "metadata": {},
   "source": [
    "This is now the well-known random bit generator circuit."
   ]
  },
  {
   "cell_type": "markdown",
   "metadata": {},
   "source": [
    "## Running Quantum Circuits"
   ]
  },
  {
   "cell_type": "markdown",
   "metadata": {},
   "source": [
    "To run a quantum circuit, we need either a quantum computer simulator or an actual quantum computer. In this notebook, we'll stick to quantum computer simulators. Cirq comes with a powerful built-in simulator called the `XmonSimulator`. \n",
    "\n",
    "We'll use this simulator below to run our random bit generator quantum circuit."
   ]
  },
  {
   "cell_type": "code",
   "execution_count": 152,
   "metadata": {},
   "outputs": [
    {
     "name": "stdout",
     "output_type": "stream",
     "text": [
      "Counter({1: 502, 0: 498})\n"
     ]
    }
   ],
   "source": [
    "# get a simulator\n",
    "sim = cirq.google.XmonSimulator()\n",
    "\n",
    "# run the circuit\n",
    "outcome = sim.run(circ, repetitions=1000)\n",
    "\n",
    "print(outcome.histogram(key=\"z\"))"
   ]
  },
  {
   "cell_type": "markdown",
   "metadata": {},
   "source": [
    "## Working with Circuits"
   ]
  },
  {
   "cell_type": "markdown",
   "metadata": {},
   "source": [
    "### Methods Returning Circuit Information\n",
    "\n",
    "There are many methods that return some information about the circuit. These include:\n",
    "\n",
    "1. ```next_moment_operating_on(qubits)```\n",
    "    * Finds the index of the next moment that touches the given qubits.\n",
    "    \n",
    "1. ```prev_moment_operationg_on(qubits)```\n",
    "    * Finds the index of the previous **(says \"next\" in code docs --> typo!)** moment that touches the given qubits.\n",
    "    \n",
    "1. ```operation_at(qubit, moment_index)```\n",
    "    * Finds the operation on a qubit within a moment indexed by ```moment_index```, if any.\n",
    "    \n",
    "1. ```all_qubits()```\n",
    "    * Returns the qubits acted upon by operations in this circuit.\n",
    "    \n",
    "1. ```findall_operations(predicate)```\n",
    "    * Find the locations of all operations that satisfy a given condition. Returns an iterator of (index, operation) tuples where each operation satisfies the ```predicate```.\n",
    "    \n",
    "1. ```to_unitary_matrix()```\n",
    "    * Converts the circuit into a unitary matrix, if possible.\n",
    "\n",
    "1. ```apply_unitary_effect_to_state()```\n",
    "    * Left-multiplies a state vector by the circuit's unitary effect.\n",
    "    \n",
    "1. ```to_text_diagram()```\n",
    "    * Returns text containing a diagram describing the circuit.\n",
    "    \n",
    "1. ```to_text_diagram_drawer()``` **(maybe omit)**\n",
    "    * Returns a TextDiagramDrawer with the circuit drawn into it.\n",
    "\n",
    "In the above, we have given a brief description of these functions and omitted most optional arguments. For complete information on these functions, please see the documentation or source code."
   ]
  },
  {
   "cell_type": "markdown",
   "metadata": {},
   "source": [
    "### Methods for Manipulating Circuits\n",
    "\n",
    "The functions we included above are useful for getting circuit information, but they don't affect the circuit. Cirq contains many useful built-in functions for manipulating, or mutating, quantum circuits. We'll now look at these through a series of examples.\n",
    "\n",
    "First we'll write a function for giving us a (random) circuit to work with."
   ]
  },
  {
   "cell_type": "code",
   "execution_count": 134,
   "metadata": {},
   "outputs": [],
   "source": [
    "import numpy as np\n",
    "\n",
    "# one qubit operations dictionary\n",
    "oneq_ops = {1 : cirq.X,\n",
    "            2 : cirq.Y,\n",
    "            3 : cirq.Z,\n",
    "            4 : cirq.H,\n",
    "            5 : cirq.X ** 0.5,\n",
    "            6 : cirq.T}\n",
    "\n",
    "# two qubit operations dictionary\n",
    "\n",
    "def random_circuit(num_qubits, depth, \n",
    "                   oneq_ops_dict=oneq_ops):\n",
    "    # get some qubits and a circuit\n",
    "    qbits = [cirq.LineQubit(x) for x in range(num_qubits)]\n",
    "    circ = cirq.Circuit()\n",
    "    \n",
    "    for _ in range(depth):\n",
    "        op_keys = np.random.randint(1, len(oneq_ops) + 1, num_qubits)\n",
    "        circ.append(\n",
    "            [oneq_ops[key](q) for (q, key) in enumerate(op_keys)],\n",
    "            strategy=cirq.InsertStrategy.EARLIEST\n",
    "            )\n",
    "        \n",
    "    return circ"
   ]
  },
  {
   "cell_type": "markdown",
   "metadata": {},
   "source": [
    "This function, when called, produces something like the following:"
   ]
  },
  {
   "cell_type": "code",
   "execution_count": 151,
   "metadata": {},
   "outputs": [
    {
     "name": "stdout",
     "output_type": "stream",
     "text": [
      "0: ───X───X^0.5───T───X^0.5───T───────X^0.5───T───────X^0.5───Z───\n",
      "\n",
      "1: ───Z───H───────X───X───────X^0.5───X^0.5───Z───────Z───────Z───\n",
      "\n",
      "2: ───T───X───────H───T───────X^0.5───Y───────X^0.5───H───────H───\n"
     ]
    }
   ],
   "source": [
    "mycirc = random_circuit(3, 9)\n",
    "print(mycirc)"
   ]
  },
  {
   "cell_type": "markdown",
   "metadata": {},
   "source": [
    "#### Circuit Slicing and Arithmetic"
   ]
  },
  {
   "cell_type": "markdown",
   "metadata": {},
   "source": [
    "Circuits are built up of ```moment```s, or a set of operations that acts at a given time (i.e., moment). We can think of these as vertical slices of the circuit diagram. We can loop throug moments of the circuit as follows:"
   ]
  },
  {
   "cell_type": "code",
   "execution_count": 152,
   "metadata": {},
   "outputs": [
    {
     "name": "stdout",
     "output_type": "stream",
     "text": [
      "X(0) and Z(1) and T(2)\n",
      "X**0.5(0) and H(1) and X(2)\n",
      "T(0) and X(1) and H(2)\n",
      "X**0.5(0) and X(1) and T(2)\n",
      "T(0) and X**0.5(1) and X**0.5(2)\n",
      "X**0.5(0) and X**0.5(1) and Y(2)\n",
      "T(0) and Z(1) and X**0.5(2)\n",
      "X**0.5(0) and Z(1) and H(2)\n",
      "Z(0) and Z(1) and H(2)\n"
     ]
    }
   ],
   "source": [
    "for moment in mycirc:\n",
    "    print(moment)"
   ]
  },
  {
   "cell_type": "markdown",
   "metadata": {},
   "source": [
    "In addition, we can slice circuits to see particular moments."
   ]
  },
  {
   "cell_type": "code",
   "execution_count": 161,
   "metadata": {},
   "outputs": [
    {
     "name": "stdout",
     "output_type": "stream",
     "text": [
      "X(0) and Z(1) and T(2)\n",
      "Z(0) and Z(1) and H(2)\n",
      "0: ───X^0.5───T───X^0.5───\n",
      "\n",
      "1: ───H───────X───X───────\n",
      "\n",
      "2: ───X───────H───T───────\n"
     ]
    }
   ],
   "source": [
    "# prints the zeroth moment\n",
    "print(mycirc[0])\n",
    "\n",
    "# prints the last moment\n",
    "print(mycirc[-1])\n",
    "\n",
    "# prints a range of moments as a circuit diagram\n",
    "print(mycirc[1 : 4])"
   ]
  },
  {
   "cell_type": "markdown",
   "metadata": {},
   "source": [
    "We can also add two circuits together and multiply circuits."
   ]
  },
  {
   "cell_type": "code",
   "execution_count": 182,
   "metadata": {},
   "outputs": [
    {
     "name": "stdout",
     "output_type": "stream",
     "text": [
      "Circuit 1 looks like:\n",
      " 0: ───Z───H───\n",
      "\n",
      "1: ───Z───Y───\n",
      "\n",
      "Circuit 2 looks like:\n",
      " 0: ───Y───Y───\n",
      "\n",
      "1: ───X───X───\n",
      "\n",
      "Circuit 1 + Circuit 2:\n",
      " 0: ───Z───H───Y───Y───\n",
      "\n",
      "1: ───Z───Y───X───X───\n",
      "\n",
      "3 * Circuit 1:\n",
      " 0: ───Z───H───Z───H───Z───H───\n",
      "\n",
      "1: ───Z───Y───Z───Y───Z───Y───\n"
     ]
    }
   ],
   "source": [
    "circ1 = random_circuit(2, 2)\n",
    "circ2 = random_circuit(2, 2)\n",
    "\n",
    "print(f\"Circuit 1 looks like:\\n {circ1}\\n\")\n",
    "print(f\"Circuit 2 looks like:\\n {circ2}\\n\")\n",
    "\n",
    "print(f\"Circuit 1 + Circuit 2:\\n {circ1 + circ2}\\n\")\n",
    "\n",
    "print(f\"3 * Circuit 1:\\n {3 * circ1}\")"
   ]
  }
 ],
 "metadata": {
  "kernelspec": {
   "display_name": "Python 3",
   "language": "python",
   "name": "python3"
  },
  "language_info": {
   "codemirror_mode": {
    "name": "ipython",
    "version": 3
   },
   "file_extension": ".py",
   "mimetype": "text/x-python",
   "name": "python",
   "nbconvert_exporter": "python",
   "pygments_lexer": "ipython3",
   "version": "3.6.4"
  }
 },
 "nbformat": 4,
 "nbformat_minor": 2
}
