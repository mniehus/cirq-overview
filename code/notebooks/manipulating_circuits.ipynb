{
 "cells": [
  {
   "cell_type": "markdown",
   "metadata": {},
   "source": [
    "# Working with Quantum Circuits inCirq"
   ]
  },
  {
   "cell_type": "markdown",
   "metadata": {},
   "source": [
    "This notebook is a tutorial on manipulating quantum circuits with the built-in funcionality provided by Google's Cirq. By \"manipulating quantum circuits,\" we mean operations on quantum circuit of the following form:\n",
    "\n",
    "* Inserting instructions in a circuit\n",
    "\n",
    "* Simplifying a circuit\n",
    "\n"
   ]
  },
  {
   "cell_type": "markdown",
   "metadata": {},
   "source": [
    "Let's first import Cirq so we have all of it's functionality."
   ]
  },
  {
   "cell_type": "code",
   "execution_count": 2,
   "metadata": {},
   "outputs": [],
   "source": [
    "import cirq"
   ]
  },
  {
   "cell_type": "markdown",
   "metadata": {},
   "source": [
    "A quantum circuit is a list of instructions acting on qubits. In the cells below, we'll look at how to declare qubits and circuits using Cirq. Later on, we'll transition into more advanced and useful operations that Cirq allows users to perform on quantum circuits."
   ]
  },
  {
   "cell_type": "markdown",
   "metadata": {},
   "source": [
    "## Declaring Qubits in Cirq"
   ]
  },
  {
   "cell_type": "markdown",
   "metadata": {},
   "source": [
    "To work with a quantum circuit, we need qubits to operate on. Cirq is heavily focused on near-term applications of quantum computers. Because near-term quantum computers typically have qubits arranged in a line or a two-dimensional grid, Cirq provides ```LineQubits``` as well as ```GridQubits```."
   ]
  },
  {
   "cell_type": "markdown",
   "metadata": {},
   "source": [
    "Let's first look at ```LineQubit```s and how to declare them."
   ]
  },
  {
   "cell_type": "code",
   "execution_count": 6,
   "metadata": {},
   "outputs": [],
   "source": [
    "# number of qubits\n",
    "n = 10\n",
    "\n",
    "# get a list of qubits with linear indices\n",
    "qubits = [cirq.LineQubit(k) for k in range(n)]"
   ]
  },
  {
   "cell_type": "markdown",
   "metadata": {},
   "source": [
    "The class ```LineQubit``` allows the user to get the index of the qubit with the instance ```LineQubit.x``` as shown below."
   ]
  },
  {
   "cell_type": "code",
   "execution_count": 12,
   "metadata": {},
   "outputs": [
    {
     "name": "stdout",
     "output_type": "stream",
     "text": [
      "3\n"
     ]
    }
   ],
   "source": [
    "print(qubits[3].x)"
   ]
  },
  {
   "cell_type": "markdown",
   "metadata": {},
   "source": [
    "The function ```LineQubit.is_adjacent``` is also a useful feature."
   ]
  },
  {
   "cell_type": "code",
   "execution_count": 26,
   "metadata": {},
   "outputs": [
    {
     "name": "stdout",
     "output_type": "stream",
     "text": [
      "True\n",
      "False\n",
      "False\n"
     ]
    }
   ],
   "source": [
    "# qubit 3 is adjacent to qubit 4 on linear connectivity\n",
    "print(qubits[3].is_adjacent(qubits[4]))\n",
    "\n",
    "# qubit 3 is NOT adjacent to qubit 6 on linear connectivity\n",
    "print(qubits[3].is_adjacent(qubits[6]))\n",
    "\n",
    "# qubit 0 is NOT adjacent to qubit 0 on linear connectivity\n",
    "print(qubits[0].is_adjacent(qubits[9]))"
   ]
  },
  {
   "cell_type": "code",
   "execution_count": 23,
   "metadata": {},
   "outputs": [
    {
     "data": {
      "text/plain": [
       "[LineQubit(0), LineQubit(1), LineQubit(2), LineQubit(3), LineQubit(4)]"
      ]
     },
     "execution_count": 23,
     "metadata": {},
     "output_type": "execute_result"
    }
   ],
   "source": [
    "qubits[9].range(5)"
   ]
  },
  {
   "cell_type": "code",
   "execution_count": null,
   "metadata": {},
   "outputs": [],
   "source": []
  },
  {
   "cell_type": "markdown",
   "metadata": {},
   "source": [
    "## Declaring Circuits"
   ]
  },
  {
   "cell_type": "code",
   "execution_count": 27,
   "metadata": {},
   "outputs": [],
   "source": [
    "# generic circuit\n",
    "circ = cirq.Circuit()\n",
    "\n",
    "# circuit for a device\n",
    "circ_device = cirq.Circuit(device=cirq.google.Bristlecone)\n"
   ]
  },
  {
   "cell_type": "markdown",
   "metadata": {},
   "source": [
    "## Working with Circuits"
   ]
  },
  {
   "cell_type": "markdown",
   "metadata": {},
   "source": [
    "### Methods Returning Circuit Information\n",
    "\n",
    "There are many methods that return some information about the circuit. These include:\n",
    "\n",
    "1. ```next_moment_operating_on(qubits)```\n",
    "    * Finds the index of the next moment that touches the given qubits.\n",
    "    \n",
    "1. ```prev_moment_operationg_on(qubits)```\n",
    "    * Finds the index of the previous **(says \"next\" in code docs --> typo!)** moment that touches the given qubits.\n",
    "    \n",
    "1. ```operation_at(qubit, moment_index)```\n",
    "    * Finds the operation on a qubit within a moment indexed by ```moment_index```, if any.\n",
    "    \n",
    "1. ```all_qubits()```\n",
    "    * Returns the qubits acted upon by operations in this circuit.\n",
    "    \n",
    "1. ```findall_operations(predicate)```\n",
    "    * Find the locations of all operations that satisfy a given condition. Returns an iterator of (index, operation) tuples where each operation satisfies the ```predicate```.\n",
    "    \n",
    "1. ```to_unitary_matrix()```\n",
    "    * Converts the circuit into a unitary matrix, if possible.\n",
    "\n",
    "1. ```apply_unitary_effect_to_state()```\n",
    "    * Left-multiplies a state vector by the circuit's unitary effect.\n",
    "    \n",
    "1. ```to_text_diagram()```\n",
    "    * Returns text containing a diagram describing the circuit.\n",
    "    \n",
    "1. ```to_text_diagram_drawer()``` **(maybe omit)**\n",
    "    * Returns a TextDiagramDrawer with the circuit drawn into it.\n",
    "\n",
    "In the above, we have given a brief description of these functions and omitted most optional arguments. For complete information on these functions, please see the documentation or source code."
   ]
  },
  {
   "cell_type": "markdown",
   "metadata": {},
   "source": [
    "### Methods for Manipulating Circuits\n",
    "\n",
    "The functions we included above are useful for getting circuit information, but they don't affect the circuit. Cirq contains many useful built-in functions for manipulating, or mutating, quantum circuits. We'll now look at these through a series of examples.\n",
    "\n",
    "First we'll write a function for giving us a (random) circuit to work with."
   ]
  },
  {
   "cell_type": "code",
   "execution_count": 134,
   "metadata": {},
   "outputs": [],
   "source": [
    "import numpy as np\n",
    "\n",
    "# one qubit operations dictionary\n",
    "oneq_ops = {1 : cirq.X,\n",
    "            2 : cirq.Y,\n",
    "            3 : cirq.Z,\n",
    "            4 : cirq.H,\n",
    "            5 : cirq.X ** 0.5,\n",
    "            6 : cirq.T}\n",
    "\n",
    "# two qubit operations dictionary\n",
    "\n",
    "def random_circuit(num_qubits, depth, \n",
    "                   oneq_ops_dict=oneq_ops):\n",
    "    # get some qubits and a circuit\n",
    "    qbits = [cirq.LineQubit(x) for x in range(num_qubits)]\n",
    "    circ = cirq.Circuit()\n",
    "    \n",
    "    for _ in range(depth):\n",
    "        op_keys = np.random.randint(1, len(oneq_ops) + 1, num_qubits)\n",
    "        circ.append(\n",
    "            [oneq_ops[key](q) for (q, key) in enumerate(op_keys)],\n",
    "            strategy=cirq.InsertStrategy.EARLIEST\n",
    "            )\n",
    "        \n",
    "    return circ"
   ]
  },
  {
   "cell_type": "markdown",
   "metadata": {},
   "source": [
    "This function, when called, produces something like the following:"
   ]
  },
  {
   "cell_type": "code",
   "execution_count": 151,
   "metadata": {},
   "outputs": [
    {
     "name": "stdout",
     "output_type": "stream",
     "text": [
      "0: ───X───X^0.5───T───X^0.5───T───────X^0.5───T───────X^0.5───Z───\n",
      "\n",
      "1: ───Z───H───────X───X───────X^0.5───X^0.5───Z───────Z───────Z───\n",
      "\n",
      "2: ───T───X───────H───T───────X^0.5───Y───────X^0.5───H───────H───\n"
     ]
    }
   ],
   "source": [
    "mycirc = random_circuit(3, 9)\n",
    "print(mycirc)"
   ]
  },
  {
   "cell_type": "markdown",
   "metadata": {},
   "source": [
    "#### Circuit Slicing and Arithmetic"
   ]
  },
  {
   "cell_type": "markdown",
   "metadata": {},
   "source": [
    "Circuits are built up of ```moment```s, or a set of operations that acts at a given time (i.e., moment). We can think of these as vertical slices of the circuit diagram. We can loop throug moments of the circuit as follows:"
   ]
  },
  {
   "cell_type": "code",
   "execution_count": 152,
   "metadata": {},
   "outputs": [
    {
     "name": "stdout",
     "output_type": "stream",
     "text": [
      "X(0) and Z(1) and T(2)\n",
      "X**0.5(0) and H(1) and X(2)\n",
      "T(0) and X(1) and H(2)\n",
      "X**0.5(0) and X(1) and T(2)\n",
      "T(0) and X**0.5(1) and X**0.5(2)\n",
      "X**0.5(0) and X**0.5(1) and Y(2)\n",
      "T(0) and Z(1) and X**0.5(2)\n",
      "X**0.5(0) and Z(1) and H(2)\n",
      "Z(0) and Z(1) and H(2)\n"
     ]
    }
   ],
   "source": [
    "for moment in mycirc:\n",
    "    print(moment)"
   ]
  },
  {
   "cell_type": "markdown",
   "metadata": {},
   "source": [
    "In addition, we can slice circuits to see particular moments."
   ]
  },
  {
   "cell_type": "code",
   "execution_count": 161,
   "metadata": {},
   "outputs": [
    {
     "name": "stdout",
     "output_type": "stream",
     "text": [
      "X(0) and Z(1) and T(2)\n",
      "Z(0) and Z(1) and H(2)\n",
      "0: ───X^0.5───T───X^0.5───\n",
      "\n",
      "1: ───H───────X───X───────\n",
      "\n",
      "2: ───X───────H───T───────\n"
     ]
    }
   ],
   "source": [
    "# prints the zeroth moment\n",
    "print(mycirc[0])\n",
    "\n",
    "# prints the last moment\n",
    "print(mycirc[-1])\n",
    "\n",
    "# prints a range of moments as a circuit diagram\n",
    "print(mycirc[1 : 4])"
   ]
  },
  {
   "cell_type": "markdown",
   "metadata": {},
   "source": [
    "We can also add two circuits together and multiply circuits."
   ]
  },
  {
   "cell_type": "code",
   "execution_count": 182,
   "metadata": {},
   "outputs": [
    {
     "name": "stdout",
     "output_type": "stream",
     "text": [
      "Circuit 1 looks like:\n",
      " 0: ───Z───H───\n",
      "\n",
      "1: ───Z───Y───\n",
      "\n",
      "Circuit 2 looks like:\n",
      " 0: ───Y───Y───\n",
      "\n",
      "1: ───X───X───\n",
      "\n",
      "Circuit 1 + Circuit 2:\n",
      " 0: ───Z───H───Y───Y───\n",
      "\n",
      "1: ───Z───Y───X───X───\n",
      "\n",
      "3 * Circuit 1:\n",
      " 0: ───Z───H───Z───H───Z───H───\n",
      "\n",
      "1: ───Z───Y───Z───Y───Z───Y───\n"
     ]
    }
   ],
   "source": [
    "circ1 = random_circuit(2, 2)\n",
    "circ2 = random_circuit(2, 2)\n",
    "\n",
    "print(f\"Circuit 1 looks like:\\n {circ1}\\n\")\n",
    "print(f\"Circuit 2 looks like:\\n {circ2}\\n\")\n",
    "\n",
    "print(f\"Circuit 1 + Circuit 2:\\n {circ1 + circ2}\\n\")\n",
    "\n",
    "print(f\"3 * Circuit 1:\\n {3 * circ1}\")"
   ]
  }
 ],
 "metadata": {
  "kernelspec": {
   "display_name": "Python 3",
   "language": "python",
   "name": "python3"
  },
  "language_info": {
   "codemirror_mode": {
    "name": "ipython",
    "version": 3
   },
   "file_extension": ".py",
   "mimetype": "text/x-python",
   "name": "python",
   "nbconvert_exporter": "python",
   "pygments_lexer": "ipython3",
   "version": "3.6.4"
  }
 },
 "nbformat": 4,
 "nbformat_minor": 2
}
