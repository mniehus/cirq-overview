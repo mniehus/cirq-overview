{
 "cells": [
  {
   "cell_type": "markdown",
   "metadata": {},
   "source": [
    "# <p style=\"text-align: center;\"> Practical Quantum Computing with Cirq </p> \n",
    "<p style=\"text-align: center;\"> Ryan LaRose </p>\n",
    "<p style=\"text-align: center;\"> Department of Computational Mathematics, Science, and Engineering, Michigan State University </p>\n",
    "<p style=\"text-align: center;\"> Department of Physics and Astronomy, Michigan State University </p>"
   ]
  },
  {
   "cell_type": "markdown",
   "metadata": {},
   "source": [
    "### <p style=\"text-align: center;\"> Abstract </p> \n",
    "<p style=\"text-align: justify;\"> In July 2018, the <a href=\"https://quantumcomputingreport.com\">Quantum Computing Report</a> published an <a href=\"https://quantumcomputingreport.com/wp-content/uploads/2018/06/Overview-and-Comparison-of-Gate-Level-Quantum-Software-Platforms-Final-June-21-2018.pdf\">in-depth analysis of four major gate-model quantum software platforms</a>: pyQuil by Rigetti, QISKit by IBM, ProjectQ by ETH Zurich, and the Quantum Developer Kit by Microsoft. Shortly after, Google announced the release of their own quantum software platform: Cirq. In this paper, we provide an overview and comparative analysis of this newly-released software in reference to the previously-reviewed quantum software platforms. Our analysis proceeds similarly by covering language syntax through example programs, library support, quantum simulators, and quantum computer capabilities. We additionally cover more advanced features of the software including the strong support for variational quantum algorithms and near-term quantum computing. </p> "
   ]
  },
  {
   "cell_type": "markdown",
   "metadata": {},
   "source": [
    "# <p style=\"text-align: center;\">I. Introduction </p> "
   ]
  },
  {
   "cell_type": "markdown",
   "metadata": {},
   "source": [
    "<p style=\"text-align: justify;\"> \n",
    "Quantum computing is transitioning from a theoretical to practical phase. Historically, researchers have asked questions about the possibilities of speedups through black-box access to abstract, idealized quantum computers. Recently, small, imperfect quantum computers have been fabricated and made available over the cloud. A significant body of literature is emerging as researchers use these devices to solve problems in nuclear physics <a href=\"#Du2018\">[Du2018]</a>, quantum chemistry <a href=\"#Pe2014\">[Pe2014]</a>, condensed matter <a href=\"#La2018\">[La2018]</a>, optimization <a href=\"#Fa2018\">[Fa2014]</a>, number theory <a href=\"#An2018\">[An2018]</a>, graph theory [QAOA on MAXCUT], and even quantum computing itself [QAQC et al.]. While these problems are small and easily handled by conventional computers, the prospect of large-scale quantum computers could quickly change this. Even on current quantum computers, certain contrived problems may soon demonstrate \"quantum supremacy\" [Quant Suprem Paper], an exciting landmark in the history of computation. \n",
    "</p>\n",
    "\n",
    "<p style=\"text-align: justify;\"> \n",
    "This theoretical-to-practical progression of the field necessitates access to quantum computers that is much different from black box access on pen and paper. Many institutions in industry and academia have recognized this and began building tools for this purpose, and a slew of startup companies has emerged to fill the gaps in the transition to practical quantum computing. The following diagram represents a snapshot of this rapidly evolving landscape:\n",
    "</p>"
   ]
  },
  {
   "cell_type": "markdown",
   "metadata": {},
   "source": [
    "<img src=\"qchart.jpg\" >\n",
    "<p style=\"text-align: center;\">Schematic diagram representing quantum computing companies and their position in the quantum software stack. \"Full-stack providers\" focus on all areas of the stack whereas \"target providers\" focus on particular areas. Because companies that do algorithms/applications frequently do software as well, we have binned these two categories together on the right. (Similarly for hardware/compiling and control.)</p>\n"
   ]
  },
  {
   "cell_type": "markdown",
   "metadata": {},
   "source": [
    "<p style=\"text-align: justify;\"> \n",
    "For most \"full-stack\" quantum computing companies, access to quantum computers is granted over the cloud, and the interaction between research scientists and quantum computers is mediated by a software platform with API access. To an outside observer, this interaction does not warrant much thought: it just needs to allow users to implement quantum gates on qubits. However, many practical considerations emerge when using a software interface to communicate with a real or simulated quantum computer. Among these are the following:\n",
    "</p>\n",
    "\n",
    "1. What gate operations are natively built-in?\n",
    "1. Can a gate that's not native be implemented into a quantum algorithm? How difficult is it to do this?\n",
    "1. How many quantum computers does the platform give access to?\n",
    "1. Is compilation handled automatically by the software? And to what degree of optimality?\n",
    "1. How do job requests to quantum computers get handled? In a queue, dedicated time?\n",
    "1. What quantum computer simulators can be used to test algorithms? How many qubits can be simulated? Is the simulator noisy or noiseless?\n",
    "1. Does every quantum algorithm have to be programmed manually? Or are some common subroutines built-in?\n",
    "1. What _classical_ programming language is the software written in?\n",
    "1. How easy is it to create, work with, and manipulate quantum circuits?\n",
    "1. How easy is it to parametrize algorithms for near-term quantum computing?\n",
    "\n",
    "<p style=\"text-align: justify;\"> \n",
    "Each of these considerations is important from a practical perspective. For example, an algorithm on many qubits may be better implemented on a software platform with a more high-performance simulator; an algorithm with many gates may be better for a platform with higher fidelity qubits; an algorithm with many non-standard gates may be better for a platform with an optimal compiler. Other considerations such as examples, tutorials, and documentation are equally important as they help bring in new users and answer questions of experienced users.\n",
    "</p>\n",
    "\n",
    "<p style=\"text-align: justify;\"> \n",
    "For these reasons, it is both valid and important to evaluate quantum software platforms as more than the simple interface they may appear to be. To this end, the Quantum Computing Report published an article comparing Forest by Rigetti, QISKit by IBM, ProjectQ by ETH Zurich, and the Quantum Developer Kit by Microsoft. Each platform was found to have different strengths and different emphases that determined the set of problems best-suited for the environment. The purpose of this article is to introduce and analyze Cirq in a similar fashion.\n",
    "</p>\n",
    "\n",
    "<p style=\"text-align: justify;\"> \n",
    "To this end, the rest of the article is organized as follows. After briefly commenting on the format of this article, we cover installation, documentation, language syntax, and quantum computer/simulator support in Cirq. We then transition into more advanced features like circuit manipulation and optimization. Lastly, we conclude with an example of a variational quantum algorithm to demonstrate the near-term capabilities of Cirq. Throughout, we refer back to previously covered software platforms to maintain the comparative analysis in our previous installation.\n",
    "</p>"
   ]
  },
  {
   "cell_type": "markdown",
   "metadata": {},
   "source": [
    "## <p style=\"text-align: center;\"> A. Format of the Article </p> "
   ]
  },
  {
   "cell_type": "markdown",
   "metadata": {},
   "source": [
    "<p style=\"text-align: justify;\"> \n",
    "This article was written as a Jupyter Notebook and exported as an HTML file. The HTML file is hosted on the [Quantum Computing Report website](https://quantumcomputingreport.com) and the Jupyter notebook is hosted on [GitHub](https://github.com/rmlarose). In the HTML version, all code and all outputs are visible in the article, but the code is not able to run. To interactively run the code while reading through the article, see the Jupyter Notebook version. In order to run the code, a working installation of Cirq is required (see _Installation_ below). The Cirq code in the notebook version will be kept up-to-date with future versions/releases of Cirq. The article also assumes basic familarity with quantum computing, for which many good [resources](https://quantumcomputingreport.com/resources/education/) now exist.\n",
    "</p>"
   ]
  },
  {
   "cell_type": "markdown",
   "metadata": {},
   "source": [
    "# <p style=\"text-align: center;\"> II. The Basics of Cirq </p> "
   ]
  },
  {
   "cell_type": "markdown",
   "metadata": {},
   "source": [
    "<table style=\"width:100%\">\n",
    "  <tr>\n",
    "    <th>Institution</th>\n",
    "    <!--<th>First Release</th>-->\n",
    "    <th>Version</th>\n",
    "    <!--<th>Open Source?</th>-->\n",
    "    <!--<th>License</th>-->\n",
    "    <!--<th>Homepage</th>-->\n",
    "    <th>GitHub</th>\n",
    "    <th>Documentation</th>\n",
    "    <th>OS</th>\n",
    "    <th>Requirements</th>\n",
    "    <th>Classical Language</th>\n",
    "    <th>Quantum Language</th>\n",
    "    <th>Quantum Hardware</th>\n",
    "    <th>Simulator</th>\n",
    "    <!--<th>Features</th>-->\n",
    "  </tr>\n",
    "  <tr>\n",
    "    <td><a href=\"https://ai.google/research/teams/applied-science/quantum-ai/\">Google Quantum AI</a></td>\n",
    "    <td>v0.4.0</td> \n",
    "    <td><a href=\"https://github.com/quantumlib/Cirq\">Git</a></td>\n",
    "    <td><a href=\"https://cirq.readthedocs.io/en/latest/\">Docs</a></td>\n",
    "      <td>Mac, Windows, Linux</td>\n",
    "      <td><a href=\"https://www.python.org/downloads/\">Python</a> 3.5 or greater (else Python 2.7)</td> \n",
    "      <td>Python</td>\n",
    "      <td>----</td>\n",
    "      <td>Foxtail (22 qubits), Bristlecone (78 qubits)</td>\n",
    "      <td>~30 qubits</td>\n",
    "  </tr>\n",
    "</table>"
   ]
  },
  {
   "cell_type": "markdown",
   "metadata": {},
   "source": [
    "<p style=\"text-align: justify;\"> \n",
    "Cirq is an open-source Python framework for \"creating, editing, and invoking Noisy Intermediate-Scale Quantum (NISQ) circuits.\" The first version of the software was publicly released in August 2018; the code is still in alpha testing and under development. As such, some features or code included in this article may need modifications for future versions of Cirq. This article should be considered a review for the version of Cirq at the time of writing, which is listed in the table below. (Note that the Jupyter Notebook version of this article, hosted online at [GitHub](https://github.com/rmlarose), will be kept up to date for future versions of Cirq.)\n",
    "</p>"
   ]
  },
  {
   "cell_type": "markdown",
   "metadata": {},
   "source": [
    "<img src=\"cirq-overview.png\" width=500>\n",
    "<p style=\"text-align: center;\">The components of Cirq. When installed onto a computer, Cirq provides a library for working with quantum circuits and a high-performance local quantum circuit simulator. As of December 2018, connection to hardware devices or the \"Quantum Engine\"/\"Quantum Cloud Services\" is unavailable to general users, but this is expected to change in the future.</p>"
   ]
  },
  {
   "cell_type": "markdown",
   "metadata": {},
   "source": [
    "## <p style=\"text-align: center;\"> A. Installation </p> "
   ]
  },
  {
   "cell_type": "markdown",
   "metadata": {},
   "source": [
    "The easiest way to install `Cirq` is by using pip via\n",
    "\n",
    "```\n",
    "pip install cirq\n",
    "```\n",
    "\n",
    "at a command line. Without leaving the notebook, executing the cell below will try to install Cirq on the users computer. Alternatively, the source code for Cirq can be obtained from <a href=\"https://github.com/quantumlib/Cirq\">https://github.com/quantumlib/Cirq</a>. For complete installation instructions on multiple platforms, see the documentation at <a href=\"https://cirq.readthedocs.io/en/latest/install.html\">https://cirq.readthedocs.io/en/latest/install.html</a>. Readers who simply wish to read the article without using Cirq can ignore this step."
   ]
  },
  {
   "cell_type": "code",
   "execution_count": 58,
   "metadata": {},
   "outputs": [
    {
     "data": {
      "text/plain": [
       "'Attempts to pip install Cirq without leaving the notebook.'"
      ]
     },
     "execution_count": 58,
     "metadata": {},
     "output_type": "execute_result"
    }
   ],
   "source": [
    "\"\"\"Attempts to pip install Cirq without leaving the notebook.\"\"\"\n",
    "#!pip install --upgrade pip\n",
    "#!pip install cirq"
   ]
  },
  {
   "cell_type": "markdown",
   "metadata": {},
   "source": [
    "## <p style=\"text-align: center;\"> B. Documentation and Tutorials </p> "
   ]
  },
  {
   "cell_type": "markdown",
   "metadata": {},
   "source": [
    "<p style=\"text-align: justify;\"> \n",
    "The <a href=\"https://cirq.readthedocs.io/en/latest/install.html\">documentation for Cirq</a> contains instructions on installation for all three major operatings systems, an in-depth tutorial for the variational quantum eigensolver, and details on three major components of the Cirq library: circuits, gates, and simulation. In addition, the section on _Schedules and Devices_ details how Cirq can be used with specific quantum hardware and reflects the emphasis on near-term quantum computing. The documentation also contains a detailed API reference for the entire library and development guidelines for those who may want to contribute to the source code.\n",
    "</p>"
   ]
  },
  {
   "cell_type": "markdown",
   "metadata": {},
   "source": [
    "## <p style=\"text-align: center;\"> C. Language Syntax </p> "
   ]
  },
  {
   "cell_type": "markdown",
   "metadata": {},
   "source": [
    "<p style=\"text-align: justify;\"> \n",
    "As in our previous coverage of quantum software platforms, we include example programs to demonstrate the language syntax. Below, we implement the \"quantum random bit generator\" algorithm. To use the functionality of Cirq, we first import the library (and additional libraries we'll use throughout the article).\n",
    "</p>"
   ]
  },
  {
   "cell_type": "code",
   "execution_count": 59,
   "metadata": {},
   "outputs": [],
   "source": [
    "\"\"\"All imports for the article.\"\"\"\n",
    "import cirq\n",
    "\n",
    "import numpy as np\n",
    "%matplotlib inline"
   ]
  },
  {
   "cell_type": "markdown",
   "metadata": {},
   "source": [
    "In what follows we create a circuit and instantiate it with the operations for the algorithm (Hadamard and measure)."
   ]
  },
  {
   "cell_type": "code",
   "execution_count": 60,
   "metadata": {},
   "outputs": [],
   "source": [
    "\"\"\"Create a random number generator circuit using Cirq.\"\"\"\n",
    "# get a qubit register\n",
    "qbits = [cirq.LineQubit(0)]\n",
    "\n",
    "# get a quantum circuit\n",
    "circ = cirq.Circuit()\n",
    "\n",
    "# add the instructions to the circuit\n",
    "circ.append([cirq.H(qbits[0]), cirq.measure(qbits[0], key=\"z\")])"
   ]
  },
  {
   "cell_type": "markdown",
   "metadata": {},
   "source": [
    "<p style=\"text-align: justify;\"> \n",
    "Note that Cirq defines qubits to be `LineQubit`s or `GridQubit`s, since these are common constructions in NISQ computers. The former is indexed by one integer, as we have done in Line 4 above, and the latter by two (x, y coordinates). Qubits are commonly defined in lists (or generally iterables) for easy indexing in algorithms. In Line 7 above we instantiate a circuit, and in Line 10 we append the instructions for the algorithm. (There are multiple ways to add instructions to an algorithm in Cirq. For most of this article, we'll stick to the above method for simplicity.)\n",
    "</p>\n",
    "\n",
    "<p style=\"text-align: justify;\"> \n",
    "The Cirq library provides text diagram representation of quantum circuits, which can be visualized by printing out the circuit:\n",
    "</p>"
   ]
  },
  {
   "cell_type": "code",
   "execution_count": 61,
   "metadata": {},
   "outputs": [
    {
     "name": "stdout",
     "output_type": "stream",
     "text": [
      "0: ───H───M('z')───\n"
     ]
    }
   ],
   "source": [
    "\"\"\"Print out the random number generator circuit.\"\"\"\n",
    "print(circ)"
   ]
  },
  {
   "cell_type": "markdown",
   "metadata": {},
   "source": [
    "<p style=\"text-align: justify;\"> \n",
    "While these diagrams are not of publication quality like those that can be made in ProjectQ or even QISKit, they are a useful tool for verifying correctness of quantum circuits and debugging. Note that measurements are made with a `key` to easily access the results of running the circuit, as we will see below.\n",
    "</p>"
   ]
  },
  {
   "cell_type": "markdown",
   "metadata": {},
   "source": [
    "## <p style=\"text-align: center;\"> D. Quantum Computers </p> "
   ]
  },
  {
   "cell_type": "markdown",
   "metadata": {},
   "source": [
    "Cirq does not currently provide cloud access to it's quantum computers for general users. Indeed, as per the documentation in <a href=\"https://github.com/quantumlib/Cirq/blob/master/cirq/google/engine/engine.py\">Cirq's engine class</a>:"
   ]
  },
  {
   "cell_type": "markdown",
   "metadata": {},
   "source": [
    "<blockquote cite=\"\">\n",
    "In order to run on[e] must have access to the Quantum Engine API. Access to this\n",
    "API is (as of June 22, 2018) restricted to invitation only.\n",
    "</blockquote>\n"
   ]
  },
  {
   "cell_type": "markdown",
   "metadata": {},
   "source": [
    "Nonetheless, it is known that Google has quantum computers that have been stated to be made available via Cirq in the near future. Cirq already provides details on these devices. For instance, the architecture of the 22-qubit FoxTail computer can be printed out in Cirq by doing:"
   ]
  },
  {
   "cell_type": "code",
   "execution_count": 62,
   "metadata": {
    "scrolled": true
   },
   "outputs": [
    {
     "name": "stdout",
     "output_type": "stream",
     "text": [
      "FoxTail has 22 qubits arranged in the following topology:\n",
      "\n",
      "(0, 0)───(0, 1)───(0, 2)───(0, 3)───(0, 4)───(0, 5)───(0, 6)───(0, 7)───(0, 8)───(0, 9)───(0, 10)\n",
      "│        │        │        │        │        │        │        │        │        │        │\n",
      "│        │        │        │        │        │        │        │        │        │        │\n",
      "(1, 0)───(1, 1)───(1, 2)───(1, 3)───(1, 4)───(1, 5)───(1, 6)───(1, 7)───(1, 8)───(1, 9)───(1, 10)\n"
     ]
    }
   ],
   "source": [
    "\"\"\"Print out the architecture of the FoxTail quantum computer.\"\"\"\n",
    "print(\"FoxTail has {} qubits arranged in the following topology:\\n\".format(len(cirq.google.Foxtail.qubits)))\n",
    "print(cirq.google.Foxtail)"
   ]
  },
  {
   "cell_type": "markdown",
   "metadata": {},
   "source": [
    "The 72-qubit Bristlecone computer, with which quantum supremacy may be demonstrated on, can be displayed similarly:"
   ]
  },
  {
   "cell_type": "code",
   "execution_count": 63,
   "metadata": {},
   "outputs": [
    {
     "name": "stdout",
     "output_type": "stream",
     "text": [
      "Bristlecone has 72 qubits arranged in the following topology:\n",
      "\n",
      "                                             (0, 5)────(0, 6)\n",
      "                                             │         │\n",
      "                                             │         │\n",
      "                                    (1, 4)───(1, 5)────(1, 6)────(1, 7)\n",
      "                                    │        │         │         │\n",
      "                                    │        │         │         │\n",
      "                           (2, 3)───(2, 4)───(2, 5)────(2, 6)────(2, 7)───(2, 8)\n",
      "                           │        │        │         │         │        │\n",
      "                           │        │        │         │         │        │\n",
      "                  (3, 2)───(3, 3)───(3, 4)───(3, 5)────(3, 6)────(3, 7)───(3, 8)───(3, 9)\n",
      "                  │        │        │        │         │         │        │        │\n",
      "                  │        │        │        │         │         │        │        │\n",
      "         (4, 1)───(4, 2)───(4, 3)───(4, 4)───(4, 5)────(4, 6)────(4, 7)───(4, 8)───(4, 9)───(4, 10)\n",
      "         │        │        │        │        │         │         │        │        │        │\n",
      "         │        │        │        │        │         │         │        │        │        │\n",
      "(5, 0)───(5, 1)───(5, 2)───(5, 3)───(5, 4)───(5, 5)────(5, 6)────(5, 7)───(5, 8)───(5, 9)───(5, 10)───(5, 11)\n",
      "         │        │        │        │        │         │         │        │        │        │\n",
      "         │        │        │        │        │         │         │        │        │        │\n",
      "         (6, 1)───(6, 2)───(6, 3)───(6, 4)───(6, 5)────(6, 6)────(6, 7)───(6, 8)───(6, 9)───(6, 10)\n",
      "                  │        │        │        │         │         │        │        │\n",
      "                  │        │        │        │         │         │        │        │\n",
      "                  (7, 2)───(7, 3)───(7, 4)───(7, 5)────(7, 6)────(7, 7)───(7, 8)───(7, 9)\n",
      "                           │        │        │         │         │        │\n",
      "                           │        │        │         │         │        │\n",
      "                           (8, 3)───(8, 4)───(8, 5)────(8, 6)────(8, 7)───(8, 8)\n",
      "                                    │        │         │         │\n",
      "                                    │        │         │         │\n",
      "                                    (9, 4)───(9, 5)────(9, 6)────(9, 7)\n",
      "                                             │         │\n",
      "                                             │         │\n",
      "                                             (10, 5)───(10, 6)\n"
     ]
    }
   ],
   "source": [
    "\"\"\"Print out the architecture of the Bristlecone quantum computer.\"\"\"\n",
    "print(\"Bristlecone has {} qubits arranged in the following topology:\\n\".format(len(cirq.google.Bristlecone.qubits)))\n",
    "print(cirq.google.Bristlecone)"
   ]
  },
  {
   "cell_type": "markdown",
   "metadata": {},
   "source": [
    "It should be noted that Cirq provides built-in functionality to convert it's circuits to OpenQASM code:"
   ]
  },
  {
   "cell_type": "code",
   "execution_count": 64,
   "metadata": {
    "scrolled": true
   },
   "outputs": [
    {
     "name": "stdout",
     "output_type": "stream",
     "text": [
      "// Generated from Cirq v0.4.0\n",
      "\n",
      "OPENQASM 2.0;\n",
      "include \"qelib1.inc\";\n",
      "\n",
      "\n",
      "// Qubits: [0]\n",
      "qreg q[1];\n",
      "creg m_z[1];\n",
      "\n",
      "\n",
      "h q[0];\n",
      "measure q[0] -> m_z[0];\n",
      "\n"
     ]
    }
   ],
   "source": [
    "\"\"\"Generate and print out the OpenQASM code for the random number generator circuit.\"\"\"\n",
    "print(circ.to_qasm())"
   ]
  },
  {
   "cell_type": "markdown",
   "metadata": {},
   "source": [
    "This functionality makes it very simple to run algorithms generated in Cirq on IBM's quantum computers. (For instance, by navigating to the <a href=\"https://quantumexperience.ng.bluemix.net/qx/qasm\">IBM Q Experience website</a> and using the online QASM editor. See the Figure below.)"
   ]
  },
  {
   "cell_type": "markdown",
   "metadata": {},
   "source": [
    "<img src=\"qasm-screenshot.png\" width=900>\n",
    "<p style=\"text-align: center;\">Screenshot from the IBM Q Experience online QASM Editor using Cirq to generate QASM code. The code input into the editor is the same code obtained above by executing `circ.to_qasm()`. By selecting \"run\" or \"simulate\" on the IBM Q Experience website, one can execute the quantum algorithm on a real or simulated quantum computer, respectively.</p>"
   ]
  },
  {
   "cell_type": "markdown",
   "metadata": {},
   "source": [
    "## <p style=\"text-align: center;\"> E. Quantum Simulators </p> "
   ]
  },
  {
   "cell_type": "markdown",
   "metadata": {},
   "source": [
    "Although access to Google's quantum computers is currently restricted, Cirq provides a quantum computer simulator, the `XmonSimulator`, to locally execute quantum algorithms. To do so with the random bit generator circuit above, we can do the following:"
   ]
  },
  {
   "cell_type": "code",
   "execution_count": 65,
   "metadata": {
    "scrolled": true
   },
   "outputs": [
    {
     "name": "stdout",
     "output_type": "stream",
     "text": [
      "Counter({0: 34, 1: 16})\n"
     ]
    }
   ],
   "source": [
    "\"\"\"Run the random number generator on the XmonSimulator.\"\"\"\n",
    "# get a simulator\n",
    "simulator = cirq.google.XmonSimulator()\n",
    "\n",
    "# run the circuit\n",
    "out = simulator.run(circ, repetitions=50)\n",
    "\n",
    "# get the results and display them\n",
    "results = out.histogram(key=\"z\")\n",
    "print(results)"
   ]
  },
  {
   "cell_type": "markdown",
   "metadata": {},
   "source": [
    "The output is returned as a `Counter` object (Python built-in in the `collections` library) that displays key-value pairs corresponding to the output and number of times that output was recored. Cirq also provides the function `plot_state_histogram` to visualize the output distribution:"
   ]
  },
  {
   "cell_type": "code",
   "execution_count": 66,
   "metadata": {
    "scrolled": false
   },
   "outputs": [
    {
     "data": {
      "image/png": "[encoded data removed]",
      "text/plain": [
       "<Figure size 432x288 with 1 Axes>"
      ]
     },
     "metadata": {},
     "output_type": "display_data"
    },
    {
     "name": "stdout",
     "output_type": "stream",
     "text": [
      "counts = [34. 16.]\n"
     ]
    }
   ],
   "source": [
    "\"\"\"Display the output distribution of a cirq.TrialResult.\"\"\"\n",
    "counts = cirq.plot_state_histogram(out)\n",
    "print(\"counts =\", counts)"
   ]
  },
  {
   "cell_type": "markdown",
   "metadata": {},
   "source": [
    "For such a simple quantum algorithm, any quantum computer simulator is essentially equivalent. However, as algorithms scale to larger numbers of qubits and larger numbers of gates, runtime of the simulator can become important. The best current methods for classically simulating quantum circuits peak at around 50 qubits due to memory requirements. For a fixed number of qubits, better simulators can simulate circuits with lower overall runtime, a desirable feature for many applications. \n",
    "\n",
    "Below we test the performance of Cirq's `XmonSimulator` along these lines. Additionally, we discuss other important capabilities of quantum computer simulators such as noise modeling."
   ]
  },
  {
   "cell_type": "markdown",
   "metadata": {},
   "source": [
    "### <p style=\"text-align: center;\"> 1. Performance of the Simulators </p> "
   ]
  },
  {
   "cell_type": "markdown",
   "metadata": {},
   "source": [
    "Here we test the performance of Cirq's `XmonSimulator` using random quantum circuits with different numbers of qubits and total depth. The particular form of the circuit we will consider consists of random single qubit rotations on all qubits, then a layer of entangling CNOT gates with one qubit randomly selected as the control. We define the layer of single qubit rotations plus the layer of entangling CNOTs to have a depth of one. A schematic circuit diagram for this is shown below:"
   ]
  },
  {
   "cell_type": "markdown",
   "metadata": {},
   "source": []
  },
  {
   "cell_type": "markdown",
   "metadata": {},
   "source": [
    "The code for testing the simulator is contained in a separate Python file called `sim_test.py`. Within this file is a function, also called `sim_test`, which inputs the number of qubits, depth of the circuit, and number of times to run the circuit (also called _shots_ or _repetitions_). This function creates a random circuit of the form described above, runs it for the desired number of times, then returns the wall clock time for how long it took. An example of using this function is shown in the code cell below."
   ]
  },
  {
   "cell_type": "code",
   "execution_count": 67,
   "metadata": {},
   "outputs": [
    {
     "name": "stdout",
     "output_type": "stream",
     "text": [
      "Circuit structure shown below:\n",
      "0: ───Rx(1.875π)───Ry(1.145π)───Rz(1.271π)───@───@───@───M───\n",
      "                                             │   │   │\n",
      "1: ───Rx(1.132π)───Ry(0.127π)───Rz(0.5π)─────X───┼───┼───M───\n",
      "                                                 │   │\n",
      "2: ───Rx(0.845π)───Ry(1.952π)───Rz(1.965π)───────X───┼───M───\n",
      "                                                     │\n",
      "3: ───Rx(1.948π)───Ry(1.883π)───Rz(0.526π)───────────X───M───\n",
      "\n",
      "It took 0.03 seconds to run the circuit above.\n"
     ]
    }
   ],
   "source": [
    "\"\"\"Simulator performance test for small circuit. Note circuit structure will be random.\"\"\"\n",
    "# import the simulator test function\n",
    "from cirq_code import sim_test\n",
    "\n",
    "# inputs to sim_test\n",
    "nqubits = 4         # number of qubits\n",
    "depth = 1           # depth of circuit\n",
    "nreps = 1           # number of repetitions\n",
    "verbose=True        # verbose output (prints circuit)\n",
    "\n",
    "# do the timing test\n",
    "time = sim_test(nqubits, depth, nreps, verbose=verbose)\n",
    "\n",
    "# display the output\n",
    "print(\"\\nIt took %0.2f seconds to run the circuit above.\" % time)"
   ]
  },
  {
   "cell_type": "markdown",
   "metadata": {},
   "source": [
    "For such a small circuit, the runtime is almost instantenous. As we scale to larger and larger circuits, however, the complexity of simulating the circuit increases. Below we up the scale to 20 qubits with a depth of 10."
   ]
  },
  {
   "cell_type": "code",
   "execution_count": 68,
   "metadata": {},
   "outputs": [
    {
     "name": "stdout",
     "output_type": "stream",
     "text": [
      "\n",
      "It took 31.29 seconds to run the circuit.\n"
     ]
    }
   ],
   "source": [
    "\"\"\"Simulator performance test for larger circuit.\"\"\"\n",
    "# inputs to sim_test\n",
    "nqubits = 20        # number of qubits\n",
    "depth = 10          # depth of circuit\n",
    "nreps = 1           # number of repetitions\n",
    "verbose=False       # verbose output (prints circuit)\n",
    "\n",
    "# do the timing test\n",
    "time = sim_test(nqubits, depth, nreps, verbose=verbose)\n",
    "\n",
    "# display the output\n",
    "print(\"\\nIt took %0.2f seconds to run the circuit.\" % time)"
   ]
  },
  {
   "cell_type": "markdown",
   "metadata": {},
   "source": [
    "Here the code takes noticably longer to run. Using this `sim_test` function, we test the `XmonSimulator` using $n = 10, 12, ..., 24$ qubits with depths of $d = 20, 40, ..., 100$ layers. The results of this study are displayed in the figure below."
   ]
  },
  {
   "cell_type": "markdown",
   "metadata": {},
   "source": [
    "<img src=\"xmon-sim-plot.png\" width=600><img src=\"cirq-sim-plot.png\" width=600>\n",
    "<p style=\"text-align: center;\">Plots showing the performance of the `XmonSimulator` (top) and `Simulator` (bottom). The horizontal axis shows the number of qubits and the vertical axis shows the depth as defined above. Dark green represents faster simulation time and bright yellow represents longer simulation time. Values in each square show total overall runtime in seconds, averaged over many runs. Color scales are different for each plot.</p>"
   ]
  },
  {
   "cell_type": "markdown",
   "metadata": {},
   "source": [
    "As can be seen, the performance of the `XmonSimulator` and `Simulator` are similar in terms of overall runtime.\n",
    "\n",
    "The resource requirements (memory and runtime) for simulating larger circuits quickly reaches the limitations of current supercomputers. Researchers at Google are very interested in using a quantum computer to simulate some circuit that a classical computer cannot feasibly do, a feat commonly called _quantum supremacy_. Cirq contains built-in functions for generating so-called \"supremacy circuits,\" as can be seen below."
   ]
  },
  {
   "cell_type": "code",
   "execution_count": 95,
   "metadata": {
    "scrolled": false
   },
   "outputs": [
    {
     "name": "stdout",
     "output_type": "stream",
     "text": [
      "              ┌──┐\n",
      "(0, 5): ───H───T────@───────Y^0.5───T────────────────────H───\n",
      "                    │\n",
      "(0, 6): ───H───T────@───────@───────Y^0.5────────T───────H───\n",
      "                            │\n",
      "(1, 5): ───H───T────────────┼───────@────────────@───────H───\n",
      "                            │       │            │\n",
      "(1, 6): ───H───@────Y^0.5───@───────┼────X^0.5───@───────H───\n",
      "               │                    │\n",
      "(2, 5): ───H───┼T───@───────X^0.5───@────────────Y^0.5───H───\n",
      "               │    │\n",
      "(2, 6): ───H───@────@───────X^0.5───T────────────────────H───\n",
      "              └──┘\n"
     ]
    }
   ],
   "source": [
    "\"Display a quantum supremacy circuit on the first three rows of Bristlecone with a CZ depth of 5.\"\n",
    "print(cirq.generate_supremacy_circuit_google_v2_bristlecone(3, 5, 0))"
   ]
  },
  {
   "cell_type": "markdown",
   "metadata": {},
   "source": [
    "As we've seen above, this small circuit using only three rows (six qubits) of Bristlecone could be easily simulated by a classical computer. However, extending the circuit to all qubits on Bristlecone generates a circuit that is extremely difficult to classically simulate. Quantum supremacy is expected to be announced within the next few years."
   ]
  },
  {
   "cell_type": "markdown",
   "metadata": {},
   "source": [
    "### <p style=\"text-align: center;\"> 2. Features of the Simulators </p> "
   ]
  },
  {
   "cell_type": "markdown",
   "metadata": {},
   "source": [
    "Need to investigate this via the docs:\n",
    "\n",
    "* Noise capabilites?\n",
    "* Other simulators? (Clifford simulator, etc.)\n",
    "* Other features?"
   ]
  },
  {
   "cell_type": "markdown",
   "metadata": {},
   "source": [
    "# <p style=\"text-align: center;\"> III. Features of Cirq </p> "
   ]
  },
  {
   "cell_type": "markdown",
   "metadata": {},
   "source": [
    "In this section we discuss notable features of the Cirq platform, including methods for manipulating circuits, "
   ]
  },
  {
   "cell_type": "markdown",
   "metadata": {},
   "source": [
    "## <p style=\"text-align: center;\"> A. Manipulating Circuits </p> "
   ]
  },
  {
   "cell_type": "markdown",
   "metadata": {},
   "source": [
    "Cirq provides many tools for working with and manipulating quantum ciruicts. By \"manipulating quantum circuits,\" we mean operations of the following form:\n",
    "\n",
    "* Creating quantum circuits.\n",
    "* Inserting instructions in a circuit.\n",
    "* Removing instructions from a circuit.\n",
    "* Simplifying a circuit.\n",
    "\n",
    "In order to demonstrate these operations, we'll first import a function for creating quantum circuits with random single qubit gates."
   ]
  },
  {
   "cell_type": "code",
   "execution_count": 90,
   "metadata": {
    "scrolled": false
   },
   "outputs": [
    {
     "name": "stdout",
     "output_type": "stream",
     "text": [
      "0: ───Y───X───Y───H───────Y───────\n",
      "\n",
      "1: ───Y───H───Z───T───────T───────\n",
      "\n",
      "2: ───H───H───T───X^0.5───X^0.5───\n",
      "\n",
      "3: ───X───Y───T───Z───────X^0.5───\n",
      "\n",
      "4: ───Y───Y───T───Z───────T───────\n"
     ]
    }
   ],
   "source": [
    "\"\"\"Get a function for creating circuits with random one-qubit gates.\"\"\"\n",
    "from cirq_code import random_circuit\n",
    "\n",
    "# create a random circuit with 5 qubits and 5 moments\n",
    "circ = random_circuit(5, 5)\n",
    "print(circ)"
   ]
  },
  {
   "cell_type": "markdown",
   "metadata": {},
   "source": [
    "Circuits are stored as iterables of _moments_, where a moment is a set of operations that happens at the same time."
   ]
  },
  {
   "cell_type": "code",
   "execution_count": 93,
   "metadata": {
    "scrolled": true
   },
   "outputs": [
    {
     "name": "stdout",
     "output_type": "stream",
     "text": [
      "Y(0) and Y(1) and H(2) and X(3) and Y(4)\n",
      "X(0) and Y(3) and Y(4)\n",
      "Y(0) and T(3) and T(4)\n",
      "H(0) and T(1) and X**0.5(2) and Z(3) and Z(4)\n",
      "Y(0) and T(1) and X**0.5(2) and X**0.5(3) and T(4)\n"
     ]
    }
   ],
   "source": [
    "\"\"\"Print out each moment in the circuit.\"\"\"\n",
    "for moment in circ:\n",
    "    print(moment)"
   ]
  },
  {
   "cell_type": "markdown",
   "metadata": {},
   "source": [
    "Arithmetic can be done on circuits in a natural way. For example, the sum of two circuits is a circuit consisting of all moments of the first circuit then all moments from the second circuit. Circuits multiplication is repeated addition. While simple, these operations are very useful when designing circuits, especially variational circuits. (Note that pyQuil and QISKit also have circuit arithmetic.) In this case, one circuit can be dedicated to, say, state preparation, while the other contains the variational ansatz. The circuit to be executed then consists of the sum of the two.\n",
    "\n",
    "In many other cases with variational algorithms, it is desirable to remove specific gates from a circuit. Cirq provides a simple built-in method to perform this task, demonstrated below."
   ]
  },
  {
   "cell_type": "code",
   "execution_count": 94,
   "metadata": {
    "scrolled": true
   },
   "outputs": [
    {
     "name": "stdout",
     "output_type": "stream",
     "text": [
      "0: ───Y───X───Y───H───Y───────\n",
      "\n",
      "1: ───Y───────────────T───────\n",
      "\n",
      "2: ───H───────────────X^0.5───\n",
      "\n",
      "3: ───X───Y───T───Z───X^0.5───\n",
      "\n",
      "4: ───Y───Y───T───Z───T───────\n"
     ]
    }
   ],
   "source": [
    "\"\"\"Clear operations from a circuit.\"\"\"\n",
    "circ.clear_operations_touching(range(1, 3), range(1, 4))\n",
    "print(circ)"
   ]
  },
  {
   "cell_type": "markdown",
   "metadata": {},
   "source": [
    "Here we clear all operations in the \"rectangular\" region consisting of qubits one through two and moments one through three. "
   ]
  },
  {
   "cell_type": "code",
   "execution_count": 71,
   "metadata": {},
   "outputs": [],
   "source": [
    "\"\"\"Insert operations into a circuit.\"\"\"\n",
    "circ.findall_operations_between()"
   ]
  },
  {
   "cell_type": "code",
   "execution_count": 72,
   "metadata": {},
   "outputs": [],
   "source": [
    "opt.optimize_circuit(circ)"
   ]
  },
  {
   "cell_type": "code",
   "execution_count": 73,
   "metadata": {},
   "outputs": [
    {
     "name": "stdout",
     "output_type": "stream",
     "text": [
      "0: ───H───X^0.5───H───────X^0.5───Z───Z───────H───────Y───────H───────T───────\n",
      "\n",
      "1: ───Z───Y───────X───────Z───────T───X───────X^0.5───X^0.5───X^0.5───H───────\n",
      "\n",
      "2: ───X───Y───────X───────Z───────X───X^0.5───Z───────Z───────X^0.5───Z───────\n",
      "\n",
      "3: ───X───X^0.5───X^0.5───T───────H───H───────X───────T───────H───────X^0.5───\n",
      "\n",
      "4: ───T───X───────T───────Z───────T───X^0.5───H───────T───────X───────X^0.5───\n"
     ]
    }
   ],
   "source": [
    "print(circ)"
   ]
  },
  {
   "cell_type": "markdown",
   "metadata": {},
   "source": [
    "### Methods Returning Circuit Information\n",
    "\n",
    "There are many methods that return some information about the circuit. These include:\n",
    "\n",
    "1. ```next_moment_operating_on(qubits)```\n",
    "    * Finds the index of the next moment that touches the given qubits.\n",
    "    \n",
    "1. ```prev_moment_operationg_on(qubits)```\n",
    "    * Finds the index of the previous **(says \"next\" in code docs --> typo!)** moment that touches the given qubits.\n",
    "    \n",
    "1. ```operation_at(qubit, moment_index)```\n",
    "    * Finds the operation on a qubit within a moment indexed by ```moment_index```, if any.\n",
    "    \n",
    "1. ```all_qubits()```\n",
    "    * Returns the qubits acted upon by operations in this circuit.\n",
    "    \n",
    "1. ```findall_operations(predicate)```\n",
    "    * Find the locations of all operations that satisfy a given condition. Returns an iterator of (index, operation) tuples where each operation satisfies the ```predicate```.\n",
    "    \n",
    "1. ```to_unitary_matrix()```\n",
    "    * Converts the circuit into a unitary matrix, if possible.\n",
    "\n",
    "1. ```apply_unitary_effect_to_state()```\n",
    "    * Left-multiplies a state vector by the circuit's unitary effect.\n",
    "    \n",
    "1. ```to_text_diagram()```\n",
    "    * Returns text containing a diagram describing the circuit.\n",
    "    \n",
    "1. ```to_text_diagram_drawer()``` **(maybe omit)**\n",
    "    * Returns a TextDiagramDrawer with the circuit drawn into it.\n",
    "\n",
    "In the above, we have given a brief description of these functions and omitted most optional arguments. For complete information on these functions, please see the documentation or source code."
   ]
  },
  {
   "cell_type": "markdown",
   "metadata": {},
   "source": [
    "#### Circuit Slicing and Arithmetic"
   ]
  },
  {
   "cell_type": "markdown",
   "metadata": {},
   "source": [
    "Circuits are built up of ```moment```s, or a set of operations that acts at a given time (i.e., moment). We can think of these as vertical slices of the circuit diagram. We can loop throug moments of the circuit as follows:"
   ]
  },
  {
   "cell_type": "code",
   "execution_count": 81,
   "metadata": {},
   "outputs": [
    {
     "name": "stdout",
     "output_type": "stream",
     "text": [
      "Z(0) and Z(1) and T(2)\n",
      "X**0.5(0) and X(1) and X**0.5(2)\n",
      "Y(0) and T(1) and H(2)\n",
      "X(0) and X(1) and H(2)\n",
      "H(0) and Y(1) and X**0.5(2)\n",
      "H(0) and T(1) and X(2)\n",
      "H(0) and H(1) and H(2)\n",
      "X(0) and X(1) and H(2)\n",
      "Y(0) and Y(1) and X**0.5(2)\n"
     ]
    }
   ],
   "source": [
    "for moment in mycirc:\n",
    "    print(moment)"
   ]
  },
  {
   "cell_type": "markdown",
   "metadata": {},
   "source": [
    "In addition, we can slice circuits to see particular moments."
   ]
  },
  {
   "cell_type": "code",
   "execution_count": 82,
   "metadata": {},
   "outputs": [
    {
     "name": "stdout",
     "output_type": "stream",
     "text": [
      "Z(0) and Z(1) and T(2)\n",
      "Y(0) and Y(1) and X**0.5(2)\n",
      "0: ───X^0.5───Y───X───\n",
      "\n",
      "1: ───X───────T───X───\n",
      "\n",
      "2: ───X^0.5───H───H───\n"
     ]
    }
   ],
   "source": [
    "# prints the zeroth moment\n",
    "print(mycirc[0])\n",
    "\n",
    "# prints the last moment\n",
    "print(mycirc[-1])\n",
    "\n",
    "# prints a range of moments as a circuit diagram\n",
    "print(mycirc[1 : 4])"
   ]
  },
  {
   "cell_type": "markdown",
   "metadata": {},
   "source": [
    "We can also add two circuits together and multiply circuits."
   ]
  },
  {
   "cell_type": "code",
   "execution_count": 83,
   "metadata": {
    "scrolled": true
   },
   "outputs": [
    {
     "name": "stdout",
     "output_type": "stream",
     "text": [
      "Circuit 1 looks like:\n",
      " 0: ───Y───H───\n",
      "\n",
      "1: ───Y───Z───\n",
      "\n",
      "Circuit 2 looks like:\n",
      " 0: ───Z───X───\n",
      "\n",
      "1: ───Y───Z───\n",
      "\n",
      "Circuit 1 + Circuit 2:\n",
      " 0: ───Y───H───Z───X───\n",
      "\n",
      "1: ───Y───Z───Y───Z───\n",
      "\n",
      "3 * Circuit 1:\n",
      " 0: ───Y───H───Y───H───Y───H───\n",
      "\n",
      "1: ───Y───Z───Y───Z───Y───Z───\n"
     ]
    }
   ],
   "source": [
    "circ1 = random_circuit(2, 2)\n",
    "circ2 = random_circuit(2, 2)\n",
    "\n",
    "print(f\"Circuit 1 looks like:\\n {circ1}\\n\")\n",
    "print(f\"Circuit 2 looks like:\\n {circ2}\\n\")\n",
    "\n",
    "print(f\"Circuit 1 + Circuit 2:\\n {circ1 + circ2}\\n\")\n",
    "\n",
    "print(f\"3 * Circuit 1:\\n {3 * circ1}\")"
   ]
  },
  {
   "cell_type": "markdown",
   "metadata": {},
   "source": []
  },
  {
   "cell_type": "markdown",
   "metadata": {},
   "source": [
    "## <p style=\"text-align: center;\"> B. Paramterizing Circuits </p> "
   ]
  },
  {
   "cell_type": "markdown",
   "metadata": {},
   "source": [
    "## <p style=\"text-align: center;\"> C. Compiling Circuits </p> "
   ]
  },
  {
   "cell_type": "markdown",
   "metadata": {},
   "source": [
    "## <p style=\"text-align: center;\"> D. Scheduling </p> "
   ]
  },
  {
   "cell_type": "markdown",
   "metadata": {},
   "source": [
    "# <p style=\"text-align: center;\"> IV. Example Algorithms </p> "
   ]
  },
  {
   "cell_type": "markdown",
   "metadata": {},
   "source": [
    "## <p style=\"text-align: center;\"> A. Quantum Teleportation Algorithm </p> "
   ]
  },
  {
   "cell_type": "code",
   "execution_count": 40,
   "metadata": {},
   "outputs": [
    {
     "name": "stdout",
     "output_type": "stream",
     "text": [
      "0: ───X───────────H───@───M───\n",
      "                      │\n",
      "1: ───────H───@───────X───M───\n",
      "              │\n",
      "2: ───────────X───────────────\n"
     ]
    }
   ],
   "source": [
    "\"\"\"Quantum teleportation algorithm written in Cirq.\"\"\"\n",
    "\n",
    "qbits = [cirq.LineQubit(x) for x in range(3)]\n",
    "circ = cirq.Circuit()\n",
    "\n",
    "# Alice teleports |1> to qubit Bob\n",
    "circ.append(cirq.ops.X(qbits[0]))\n",
    "\n",
    "# Bell state preparation on Bob's qubits\n",
    "circ.append([cirq.ops.H(qbits[1]),\n",
    "    cirq.ops.CNOT(qbits[1], qbits[2])])\n",
    "            \n",
    "# Bell state measurement on Alice's qubits\n",
    "circ.append([cirq.ops.H(qbits[0]),\n",
    "    cirq.ops.CNOT(qbits[0], qbits[1]),\n",
    "    cirq.measure(qbits[0]),\n",
    "    cirq.measure(qbits[1])])\n",
    "    \n",
    "print(circ)"
   ]
  },
  {
   "cell_type": "markdown",
   "metadata": {},
   "source": [
    "## <p style=\"text-align: center;\"> B. Variational Algorithm </p> "
   ]
  },
  {
   "cell_type": "markdown",
   "metadata": {},
   "source": [
    "# <p style=\"text-align: center;\"> V. Comparisons and Conclusions </p> "
   ]
  },
  {
   "cell_type": "markdown",
   "metadata": {},
   "source": [
    "# <p style=\"text-align: center;\"> References </p> "
   ]
  },
  {
   "cell_type": "markdown",
   "metadata": {},
   "source": [
    "<a name=\"Du2018\">[Du2018]</a> Dumitrescu, E. F. et al. Cloud Quantum Computing of an Atomic Nucleus. Physical Review Letters 120, (2018).\n",
    "\n",
    "<a name=\"Pe2014\">[Pe2014]</a> A. Peruzzo et al., “A variational eigenvalue solver on a quantum processor,” Nature Communications, vol. 5, no. 1, Dec. 2014.\n",
    "\n",
    "<a name=\"An2018\">[An2018]</a> E. R. Anschuetz, J. P. Olson, A. Aspuru-Guzik, and Y. Cao, “Variational Quantum Factoring,” arXiv:1808.08927 [quant-ph], Aug. 2018.\n",
    "\n",
    "<a name=\"La2018\">[La2018]</a> R. LaRose, A. Tikku, É. O’Neel-Judy, L. Cincio, and P. J. Coles, “Variational Quantum State Diagonalization,” arXiv:1810.10506 [quant-ph], Oct. 2018.\n",
    "\n",
    "<a name=\"Fa2014\">[Fa2014]</a>] E. Farhi, J. Goldstone, and S. Gutmann, “A Quantum Approximate Optimization Algorithm,” arXiv:1411.4028 [quant-ph], Nov. 2014.\n"
   ]
  }
 ],
 "metadata": {
  "kernelspec": {
   "display_name": "Python 3",
   "language": "python",
   "name": "python3"
  },
  "language_info": {
   "codemirror_mode": {
    "name": "ipython",
    "version": 3
   },
   "file_extension": ".py",
   "mimetype": "text/x-python",
   "name": "python",
   "nbconvert_exporter": "python",
   "pygments_lexer": "ipython3",
   "version": "3.6.4"
  }
 },
 "nbformat": 4,
 "nbformat_minor": 2
}
