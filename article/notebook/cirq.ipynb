{
 "cells": [
  {
   "cell_type": "markdown",
   "metadata": {},
   "source": [
    "# <p style=\"text-align: center;\"> Practical Quantum Computing with Cirq </p> \n",
    "<p style=\"text-align: center;\"> Ryan LaRose </p>\n",
    "<p style=\"text-align: center;\"> Department of Computational Mathematics, Science, and Engineering, Michigan State University </p>\n",
    "<p style=\"text-align: center;\"> Department of Physics and Astronomy, Michigan State University </p>"
   ]
  },
  {
   "cell_type": "markdown",
   "metadata": {},
   "source": [
    "### <p style=\"text-align: center;\"> Abstract </p> \n",
    "<p style=\"text-align: justify;\"> In July 2018, the <a href=\"https://quantumcomputingreport.com\">Quantum Computing Report</a> published an <a href=\"https://quantumcomputingreport.com/wp-content/uploads/2018/06/Overview-and-Comparison-of-Gate-Level-Quantum-Software-Platforms-Final-June-21-2018.pdf\">in-depth analysis of four major gate-model quantum software platforms</a>: Forest by Rigetti, QISKit by IBM, ProjectQ by ETH Zurich, and the Quantum Developer Kit by Microsoft. Shortly after, Google announced the release of their own quantum software platform: Cirq. In this paper, we provide an overview and comparative analysis of this newly-released platform with respect to the previously-reviewed quantum software platforms. Our analysis proceeds similarly by covering requirements and installation, language syntax through example programs, quantum simulators, and quantum computer capabilities. We additionally cover more advanced features of the platform including quantum circuit manipulation/optimization, device-oriented circuits and quantum compiling, and strong support for variational quantum algorithms and near-term quantum computing. </p> "
   ]
  },
  {
   "cell_type": "markdown",
   "metadata": {},
   "source": [
    "# <p style=\"text-align: center;\">I. Introduction </p> "
   ]
  },
  {
   "cell_type": "markdown",
   "metadata": {},
   "source": [
    "<p style=\"text-align: justify;\"> \n",
    "Quantum computing is transitioning from a theoretical to practical phase. Historically, researchers have asked questions about the possibilities of speedups through black-box access to abstract, idealized quantum computers. Recently, small, imperfect quantum computers have been fabricated and made available over the cloud. A significant body of literature is emerging as researchers use these devices to solve problems in nuclear physics <a href=\"#Du2018\">[Du2018]</a>, quantum chemistry <a href=\"#Pe2014\">[Pe2014]</a>, condensed matter <a href=\"#La2018\">[La2018]</a>, optimization <a href=\"#Fa2018\">[Fa2014]</a>, number theory <a href=\"#An2018\">[An2018]</a>, graph theory <a href=\"#Fa2018\">[Fa2018]</a>, and even quantum computing itself <a href=\"#Kh2018\">[Kh2018]</a>. While these problems are small and easily handled by conventional computers, the prospect of large-scale quantum computers could quickly change this. Even on current quantum computers, certain contrived problems may soon demonstrate \"quantum supremacy\" <a href=\"#Ne2017\">[Ne2017, Ma2018]</a>, an exciting landmark in the history of computation. \n",
    "</p>\n",
    "\n",
    "<p style=\"text-align: justify;\"> \n",
    "This theoretical-to-practical progression of the field necessitates access to quantum computers that is much different from black box access on pen and paper. Many institutions in industry and academia have recognized this and began building tools for this purpose, and a slew of startup companies has emerged to fill the gaps in the transition to practical quantum computing. The following diagram represents a snapshot of this rapidly evolving landscape:\n",
    "</p>"
   ]
  },
  {
   "cell_type": "markdown",
   "metadata": {},
   "source": [
    "<img src=\"qchart.jpg\" >\n",
    "<p style=\"text-align: center;\">Schematic diagram showing quantum computing companies and their position in the quantum software stack. \"Full-stack providers\" focus on all areas of the stack whereas \"target providers\" focus on particular areas. Because companies that do algorithms/applications frequently do software as well, we have combined these two categories on the right. (Similarly for hardware & compilation and control.)</p>\n"
   ]
  },
  {
   "cell_type": "markdown",
   "metadata": {},
   "source": [
    "<p style=\"text-align: justify;\"> \n",
    "For most \"full-stack\" quantum computing companies, access to quantum computers is granted over the cloud, and the interaction between research scientists and quantum computers is mediated by a software platform with API access. To an outside observer, this interaction does not warrant much thought: it just needs to give users the ability to implement quantum gates on qubits. However, many practical considerations emerge when using a software interface to communicate with a real or simulated quantum computer. Among these are the following:\n",
    "</p>\n",
    "\n",
    "1. What gate operations are natively built-in?\n",
    "1. Can a gate that's not native be implemented into a quantum algorithm? How difficult is it to do this?\n",
    "1. How many quantum computers does the platform give access to?\n",
    "1. Is compilation handled automatically by the software? And to what degree of optimality?\n",
    "1. How do job requests to quantum computers get handled? In a queue, dedicated time?\n",
    "1. What quantum computer simulators can be used to test algorithms? How many qubits can be simulated? Is the simulator noisy or noiseless?\n",
    "1. Does every quantum algorithm have to be programmed manually? Or are some common subroutines built-in?\n",
    "1. What <i>classical</i> programming language is the software written in?\n",
    "1. How easy is it to create, work with, and manipulate quantum circuits?\n",
    "1. How easy is it to parametrize algorithms for near-term quantum computing?\n",
    "\n",
    "<p style=\"text-align: justify;\"> \n",
    "Each of these considerations is important from a practical perspective. For example, an algorithm on many qubits may be better implemented on a platform with a more high-performance simulator; an algorithm with many gates may be better for a platform with higher fidelity qubits; an algorithm with many non-standard gates may be better for a platform with an optimal compiler. Other considerations such as examples, tutorials, and documentation are equally important as they help bring in new users and answer questions of experienced users.\n",
    "</p>\n",
    "\n",
    "<p style=\"text-align: justify;\"> \n",
    "For these reasons, it is both valid and important to evaluate quantum software platforms as more than the simple interface they may appear to be. To this end, the Quantum Computing Report published an article <a href=\"#LaR2018\">[LaR2018]</a> comparing Forest by Rigetti, QISKit by IBM, ProjectQ by ETH Zurich, and the Quantum Developer Kit by Microsoft. Each platform was found to have different strengths and different emphases that determined the set of problems best-suited for the environment. The purpose of this article is to introduce and analyze Cirq in a similar fashion.\n",
    "</p>\n",
    "\n",
    "<p style=\"text-align: justify;\"> \n",
    "To this end, the rest of the article is organized as follows. After briefly commenting on the format of this article, we cover installation, documentation, language syntax, and quantum computer/simulator support in Cirq. We then transition into more advanced features like circuit manipulation and optimization and circuits for a partcular quantum computer. Lastly, we conclude with example programs including a variational quantum algorithm to demonstrate the near-term capabilities of Cirq. Throughout, we refer back to previously covered software platforms to maintain the comparative analysis in our previous installation.\n",
    "</p>"
   ]
  },
  {
   "cell_type": "markdown",
   "metadata": {},
   "source": [
    "## <p style=\"text-align: center;\"> A. Format of the Article </p> "
   ]
  },
  {
   "cell_type": "markdown",
   "metadata": {},
   "source": [
    "<p style=\"text-align: justify;\"> \n",
    "This article was written as a Jupyter Notebook and exported as an HTML file. The HTML file is hosted on the <a href=\"https://quantumcomputingreport.com\">Quantum Computing Report website</a> and the Jupyter notebook is hosted on <a href=\"https://github.com/rmlarose/cirq-overview\">GitHub</a>. In the HTML version, all code and all outputs are visible in the article, but the code is not able to run. To interactively run the code while reading through the article, see the Jupyter Notebook version. In order to run the code, a working installation of Cirq is required (see <i>Installation</i> below). The Cirq code in the notebook version will be kept up-to-date with future versions/releases of Cirq. The article assumes basic familiarity with quantum computing, for which many good <a href=\"https://quantumcomputingreport.com/resources/education/\">resources</a> now exist.\n",
    "</p>"
   ]
  },
  {
   "cell_type": "markdown",
   "metadata": {},
   "source": [
    "# <p style=\"text-align: center;\"> II. The Basics of Cirq </p> "
   ]
  },
  {
   "cell_type": "markdown",
   "metadata": {},
   "source": [
    "<table style=\"width:100%\">\n",
    "  <tr>\n",
    "    <th>Institution</th>\n",
    "    <!--<th>First Release</th>-->\n",
    "    <th>Version</th>\n",
    "    <!--<th>Open Source?</th>-->\n",
    "    <!--<th>License</th>-->\n",
    "    <!--<th>Homepage</th>-->\n",
    "    <th>GitHub</th>\n",
    "    <th>Documentation</th>\n",
    "    <th>OS</th>\n",
    "    <th>Requirements</th>\n",
    "    <th>Classical Language</th>\n",
    "    <th>Quantum Language</th>\n",
    "    <th>Quantum Hardware</th>\n",
    "    <th>Simulator</th>\n",
    "    <!--<th>Features</th>-->\n",
    "  </tr>\n",
    "  <tr>\n",
    "    <td><a href=\"https://ai.google/research/teams/applied-science/quantum-ai/\">Google Quantum AI</a></td>\n",
    "    <td>v0.4.0</td> \n",
    "    <td><a href=\"https://github.com/quantumlib/Cirq\">Git</a></td>\n",
    "    <td><a href=\"https://cirq.readthedocs.io/en/latest/\">Docs</a></td>\n",
    "      <td>Mac, Windows, Linux</td>\n",
    "      <td><a href=\"https://www.python.org/downloads/\">Python</a> 3.5 or greater (else Python 2.7)</td> \n",
    "      <td>Python</td>\n",
    "      <td>----</td>\n",
    "      <td>Foxtail (22 qubits), Bristlecone (72 qubits)</td>\n",
    "      <td>~20-30 qubits</td>\n",
    "  </tr>\n",
    "</table>"
   ]
  },
  {
   "cell_type": "markdown",
   "metadata": {},
   "source": [
    "<p style=\"text-align: justify;\"> \n",
    "Cirq is an open-source Python framework for \"creating, editing, and invoking Noisy Intermediate-Scale Quantum (NISQ) circuits\" <a name=\"#Al2018\">[Al2018]</a>. The first version of the software was publicly announced in July 2018; the code is still in alpha testing and under development. As such, some features or code included in this article may need modifications for future versions of Cirq. This article should be considered a review for the version of Cirq at the time of writing, which is listed in the table above. (As mentioned above, the Jupyter Notebook version of this article, hosted online at [GitHub](https://github.com/rmlarose), will be kept up to date as future versions of Cirq are released.)\n",
    "</p>"
   ]
  },
  {
   "cell_type": "markdown",
   "metadata": {},
   "source": [
    "<img src=\"cirq-overview.png\" width=500>\n",
    "<p style=\"text-align: center;\">The components of Cirq. When installed onto a computer, Cirq provides a library for working with quantum circuits and a high-performance local quantum circuit simulator. As of December 2018, connection to hardware devices or the \"Quantum Engine\"/\"Quantum Cloud Services\" is unavailable to general users, but this is expected to change in the future.</p>"
   ]
  },
  {
   "cell_type": "markdown",
   "metadata": {},
   "source": [
    "## <p style=\"text-align: center;\"> A. Installation </p> "
   ]
  },
  {
   "cell_type": "markdown",
   "metadata": {},
   "source": [
    "The easiest way to install `Cirq` is by using pip via\n",
    "\n",
    "```\n",
    "pip install cirq\n",
    "```\n",
    "<p style=\"text-align: justify;\"> \n",
    "at a command line. Without leaving the notebook, executing the cell below will try to install Cirq on the user's computer. Alternatively, the source code for Cirq can be obtained from <a href=\"https://github.com/quantumlib/Cirq\">https://github.com/quantumlib/Cirq</a>. For complete installation instructions on multiple platforms, see the documentation at <a href=\"https://cirq.readthedocs.io/en/latest/install.html\">https://cirq.readthedocs.io/en/latest/install.html</a>. Readers who simply wish to read the article without using Cirq can ignore this step.\n",
    "</p>"
   ]
  },
  {
   "cell_type": "code",
   "execution_count": 2,
   "metadata": {},
   "outputs": [
    {
     "data": {
      "text/plain": [
       "'Attempts to pip install the latest version of Cirq without leaving the notebook.'"
      ]
     },
     "execution_count": 2,
     "metadata": {},
     "output_type": "execute_result"
    }
   ],
   "source": [
    "\"\"\"Attempts to pip install the latest version of Cirq without leaving the notebook.\"\"\"\n",
    "#!pip install --upgrade pip\n",
    "#!pip install cirq"
   ]
  },
  {
   "cell_type": "markdown",
   "metadata": {},
   "source": [
    "## <p style=\"text-align: center;\"> B. Documentation and Tutorials </p> "
   ]
  },
  {
   "cell_type": "markdown",
   "metadata": {},
   "source": [
    "<p style=\"text-align: justify;\"> \n",
    "The <a href=\"https://cirq.readthedocs.io/en/latest/install.html\">documentation for Cirq</a> contains instructions on installation for all three major operating systems, an in-depth tutorial for the variational quantum eigensolver, and details on three major components of the Cirq library: circuits, gates, and simulation. In addition, the section on _Schedules and Devices_ details how Cirq can be used with specific quantum hardware and reflects the emphasis on near-term quantum computing. The documentation also contains a detailed API reference for the entire library and development guidelines for those who may want to contribute to the source code.\n",
    "</p>"
   ]
  },
  {
   "cell_type": "markdown",
   "metadata": {},
   "source": [
    "## <p style=\"text-align: center;\"> C. Language Syntax </p> "
   ]
  },
  {
   "cell_type": "markdown",
   "metadata": {},
   "source": [
    "<p style=\"text-align: justify;\"> \n",
    "As in our previous coverage of quantum software platforms, we include example programs to demonstrate the language syntax. Below, we implement the \"quantum random bit generator\" algorithm, which produces either zero or one output that is random by the laws of quantum mechanics. To use the functionality of Cirq, we first import the library (and additional libraries we'll use throughout the article).\n",
    "</p>"
   ]
  },
  {
   "cell_type": "code",
   "execution_count": 3,
   "metadata": {},
   "outputs": [],
   "source": [
    "\"\"\"Library imports for the article.\"\"\"\n",
    "import cirq\n",
    "\n",
    "import numpy as np\n",
    "import matplotlib.pyplot as plt\n",
    "%matplotlib inline"
   ]
  },
  {
   "cell_type": "markdown",
   "metadata": {},
   "source": [
    "<p style=\"text-align: justify;\"> \n",
    "In what follows we create a circuit and instantiate it with the operations for the algorithm (Hadamard and measure).\n",
    "</p>"
   ]
  },
  {
   "cell_type": "code",
   "execution_count": 4,
   "metadata": {},
   "outputs": [],
   "source": [
    "\"\"\"Create a random number generator circuit using Cirq.\"\"\"\n",
    "# get a qubit register\n",
    "qbits = [cirq.LineQubit(0)]\n",
    "\n",
    "# get a quantum circuit\n",
    "circ = cirq.Circuit()\n",
    "\n",
    "# add the instructions to the circuit\n",
    "circ.append([cirq.H(qbits[0]),\n",
    "             cirq.measure(qbits[0], key=\"z\")])"
   ]
  },
  {
   "cell_type": "markdown",
   "metadata": {},
   "source": [
    "<p style=\"text-align: justify;\"> \n",
    "Note that Cirq defines qubits to be `LineQubit`s or `GridQubit`s, since these are common constructions in NISQ computers. The former is indexed by one integer, as we have done in Line 4 above, and the latter by two (x, y coordinates). Qubits are commonly defined in lists (or generally iterables) for easy indexing in algorithms. In line 6 above we instantiate a circuit, and in lines 9-10 we append the instructions for the algorithm. (There are multiple ways to add instructions to an algorithm in Cirq. For most of this article, we'll stick to the above method for simplicity. See Section III.A for alternatives.)\n",
    "</p>\n",
    "\n",
    "<p style=\"text-align: justify;\"> \n",
    "The Cirq library provides text diagram representation of quantum circuits, which can be visualized by printing out the circuit:\n",
    "</p>"
   ]
  },
  {
   "cell_type": "code",
   "execution_count": 5,
   "metadata": {},
   "outputs": [
    {
     "name": "stdout",
     "output_type": "stream",
     "text": [
      "0: ───H───M('z')───\n"
     ]
    }
   ],
   "source": [
    "\"\"\"Print out the random number generator circuit.\"\"\"\n",
    "print(circ)"
   ]
  },
  {
   "cell_type": "markdown",
   "metadata": {},
   "source": [
    "<p style=\"text-align: justify;\"> \n",
    "While these diagrams are not of publication quality like those that can be made in ProjectQ or even QISKit, they are a useful tool for verifying correctness of quantum circuits and debugging. Note that measurements are made with a `key` to easily access the results of running the circuit, as we will see below.\n",
    "</p>"
   ]
  },
  {
   "cell_type": "markdown",
   "metadata": {},
   "source": [
    "## <p style=\"text-align: center;\"> D. Quantum Computers </p> "
   ]
  },
  {
   "cell_type": "markdown",
   "metadata": {},
   "source": [
    "<p style=\"text-align: justify;\"> \n",
    "Cirq does not currently provide cloud access to its quantum computers for general users. Indeed, as per the documentation in <a href=\"https://github.com/quantumlib/Cirq/blob/master/cirq/google/engine/engine.py\">Cirq's engine class</a>:\n",
    "<p style=\"text-align: justify;\"> "
   ]
  },
  {
   "cell_type": "markdown",
   "metadata": {},
   "source": [
    "<blockquote cite=\"\">\n",
    "\"In order to run on[e] must have access to the Quantum Engine API. Access to this\n",
    "API is (as of June 22, 2018) restricted to invitation only.\"\n",
    "</blockquote>\n"
   ]
  },
  {
   "cell_type": "markdown",
   "metadata": {},
   "source": [
    "<p style=\"text-align: justify;\"> \n",
    "Nonetheless, it is known that Google has quantum computers that have been stated to be made available over the cloud in the near future <a name=\"#Al2018\">[Al2018]</a>, using Cirq as an interface. Indeed, Cirq already provides details on these devices. For instance, the architecture of the 22-qubit FoxTail computer can be printed out in Cirq by doing:\n",
    "</p>"
   ]
  },
  {
   "cell_type": "code",
   "execution_count": 6,
   "metadata": {
    "scrolled": true
   },
   "outputs": [
    {
     "name": "stdout",
     "output_type": "stream",
     "text": [
      "FoxTail has 22 qubits arranged in the following topology:\n",
      "\n",
      "(0, 0)───(0, 1)───(0, 2)───(0, 3)───(0, 4)───(0, 5)───(0, 6)───(0, 7)───(0, 8)───(0, 9)───(0, 10)\n",
      "│        │        │        │        │        │        │        │        │        │        │\n",
      "│        │        │        │        │        │        │        │        │        │        │\n",
      "(1, 0)───(1, 1)───(1, 2)───(1, 3)───(1, 4)───(1, 5)───(1, 6)───(1, 7)───(1, 8)───(1, 9)───(1, 10)\n"
     ]
    }
   ],
   "source": [
    "\"\"\"Print out the architecture of the FoxTail quantum computer.\"\"\"\n",
    "print(\"FoxTail has {} qubits arranged in the following topology:\\n\".format(len(cirq.google.Foxtail.qubits)))\n",
    "print(cirq.google.Foxtail)"
   ]
  },
  {
   "cell_type": "markdown",
   "metadata": {},
   "source": [
    "The 72-qubit Bristlecone computer, with which quantum supremacy may be demonstrated on, can be displayed similarly:"
   ]
  },
  {
   "cell_type": "code",
   "execution_count": 7,
   "metadata": {
    "scrolled": true
   },
   "outputs": [
    {
     "name": "stdout",
     "output_type": "stream",
     "text": [
      "Bristlecone has 72 qubits arranged in the following topology:\n",
      "\n",
      "                                             (0, 5)────(0, 6)\n",
      "                                             │         │\n",
      "                                             │         │\n",
      "                                    (1, 4)───(1, 5)────(1, 6)────(1, 7)\n",
      "                                    │        │         │         │\n",
      "                                    │        │         │         │\n",
      "                           (2, 3)───(2, 4)───(2, 5)────(2, 6)────(2, 7)───(2, 8)\n",
      "                           │        │        │         │         │        │\n",
      "                           │        │        │         │         │        │\n",
      "                  (3, 2)───(3, 3)───(3, 4)───(3, 5)────(3, 6)────(3, 7)───(3, 8)───(3, 9)\n",
      "                  │        │        │        │         │         │        │        │\n",
      "                  │        │        │        │         │         │        │        │\n",
      "         (4, 1)───(4, 2)───(4, 3)───(4, 4)───(4, 5)────(4, 6)────(4, 7)───(4, 8)───(4, 9)───(4, 10)\n",
      "         │        │        │        │        │         │         │        │        │        │\n",
      "         │        │        │        │        │         │         │        │        │        │\n",
      "(5, 0)───(5, 1)───(5, 2)───(5, 3)───(5, 4)───(5, 5)────(5, 6)────(5, 7)───(5, 8)───(5, 9)───(5, 10)───(5, 11)\n",
      "         │        │        │        │        │         │         │        │        │        │\n",
      "         │        │        │        │        │         │         │        │        │        │\n",
      "         (6, 1)───(6, 2)───(6, 3)───(6, 4)───(6, 5)────(6, 6)────(6, 7)───(6, 8)───(6, 9)───(6, 10)\n",
      "                  │        │        │        │         │         │        │        │\n",
      "                  │        │        │        │         │         │        │        │\n",
      "                  (7, 2)───(7, 3)───(7, 4)───(7, 5)────(7, 6)────(7, 7)───(7, 8)───(7, 9)\n",
      "                           │        │        │         │         │        │\n",
      "                           │        │        │         │         │        │\n",
      "                           (8, 3)───(8, 4)───(8, 5)────(8, 6)────(8, 7)───(8, 8)\n",
      "                                    │        │         │         │\n",
      "                                    │        │         │         │\n",
      "                                    (9, 4)───(9, 5)────(9, 6)────(9, 7)\n",
      "                                             │         │\n",
      "                                             │         │\n",
      "                                             (10, 5)───(10, 6)\n"
     ]
    }
   ],
   "source": [
    "\"\"\"Print out the architecture of the Bristlecone quantum computer.\"\"\"\n",
    "print(\"Bristlecone has {} qubits arranged in the following topology:\\n\".format(len(cirq.google.Bristlecone.qubits)))\n",
    "print(cirq.google.Bristlecone)"
   ]
  },
  {
   "attachments": {},
   "cell_type": "markdown",
   "metadata": {},
   "source": [
    "<p style=\"text-align: justify;\">\n",
    "The Foxtail and Bristlecone processors implement a Controlled-$Z$ gate as their two-qubit unitary (as opposed to a CNOT gate as is common with other architectures, e.g. IBM), but it is unclear to the author which particular single qubit gates are in the native gate set. (This statement is made based off of experiments compiling arbitrary gates into Foxtail/Bristlecone. See Section III.D below.) For reference, the Controlled-$Z$ gate has the following matrix representation:\n",
    "\\begin{equation}\n",
    "C(Z) = \\left[ \\begin{matrix} \n",
    "1 & 0 & 0 & 0 \\\\\n",
    "0 & 1 & 0 & 0 \\\\\n",
    "0 & 0 & 1 & 0 \\\\\n",
    "0 & 0 & 0 & -1 \\\\\n",
    "\\end{matrix} \\right] .\n",
    "\\end{equation}\n",
    "</p>"
   ]
  },
  {
   "cell_type": "markdown",
   "metadata": {},
   "source": [
    "It should be noted that Cirq provides built-in functionality to convert its circuits to OpenQASM code:"
   ]
  },
  {
   "cell_type": "code",
   "execution_count": 8,
   "metadata": {
    "scrolled": true
   },
   "outputs": [
    {
     "name": "stdout",
     "output_type": "stream",
     "text": [
      "// Generated from Cirq v0.4.0\n",
      "\n",
      "OPENQASM 2.0;\n",
      "include \"qelib1.inc\";\n",
      "\n",
      "\n",
      "// Qubits: [0]\n",
      "qreg q[1];\n",
      "creg m_z[1];\n",
      "\n",
      "\n",
      "h q[0];\n",
      "measure q[0] -> m_z[0];\n",
      "\n"
     ]
    }
   ],
   "source": [
    "\"\"\"Generate and print out the OpenQASM code for the random number generator circuit.\"\"\"\n",
    "print(circ.to_qasm())"
   ]
  },
  {
   "cell_type": "markdown",
   "metadata": {},
   "source": [
    "<p style=\"text-align: justify;\"> \n",
    "This functionality makes it very simple to run algorithms generated in Cirq on IBM's quantum computers. (For instance, by navigating to the <a href=\"https://quantumexperience.ng.bluemix.net/qx/qasm\">IBM Q Experience website</a> and using the online QASM editor. See the Figure below.)\n",
    "</p>"
   ]
  },
  {
   "cell_type": "markdown",
   "metadata": {},
   "source": [
    "<img src=\"qasm-screenshot.png\" width=900>\n",
    "<p style=\"text-align: center;\">Screenshot from the IBM Q Experience online QASM Editor using Cirq to generate QASM code. The code input into the editor is the same code obtained above by executing `circ.to_qasm()`. By selecting \"run\" or \"simulate\" on the IBM Q Experience website, one can execute the quantum algorithm on a real or simulated quantum computer, respectively.</p>"
   ]
  },
  {
   "cell_type": "markdown",
   "metadata": {},
   "source": [
    "## <p style=\"text-align: center;\"> E. Quantum Simulators </p> "
   ]
  },
  {
   "cell_type": "markdown",
   "metadata": {},
   "source": [
    "<p style=\"text-align: justify;\"> \n",
    "Although access to Google's quantum computers is currently restricted, Cirq provides two quantum computer simulators, the `Simulator` and the `XmonSimulator`, to locally execute quantum algorithms. The `Simulator` works for generic gates that implement their unitary matrix. The `XmonSimulator` is specialized for the native gate set of Google's quantum computers and can utilize multi-threading to improve performance in certain cases.\n",
    "</p>\n",
    "\n",
    "<p style=\"text-align: justify;\"> \n",
    "To run the random bit generator circuit above with the `Simulator`, we can do the following:\n",
    "</p>"
   ]
  },
  {
   "cell_type": "code",
   "execution_count": 8,
   "metadata": {
    "scrolled": true
   },
   "outputs": [
    {
     "name": "stdout",
     "output_type": "stream",
     "text": [
      "Counter({0: 27, 1: 23})\n"
     ]
    }
   ],
   "source": [
    "\"\"\"Run the random number generator on the XmonSimulator.\"\"\"\n",
    "# get the simulator\n",
    "simulator = cirq.Simulator()\n",
    "\n",
    "# run the circuit\n",
    "out = simulator.run(circ, repetitions=50)\n",
    "\n",
    "# get the results and display them\n",
    "results = out.histogram(key=\"z\")\n",
    "print(results)"
   ]
  },
  {
   "cell_type": "markdown",
   "metadata": {},
   "source": [
    "<p style=\"text-align: justify;\"> \n",
    "The output is returned as a `Counter` object (Python built-in in the `collections` library) that displays key-value pairs corresponding to the output and number of times that output was recorded. Cirq also provides the function `plot_state_histogram` to visualize the output distribution:\n",
    "</p>"
   ]
  },
  {
   "cell_type": "code",
   "execution_count": 9,
   "metadata": {
    "scrolled": false
   },
   "outputs": [
    {
     "data": {
      "image/png": "[encoded data removed]",
      "text/plain": [
       "<Figure size 432x288 with 1 Axes>"
      ]
     },
     "metadata": {},
     "output_type": "display_data"
    },
    {
     "name": "stdout",
     "output_type": "stream",
     "text": [
      "counts = [27. 23.]\n"
     ]
    }
   ],
   "source": [
    "\"\"\"Display the output distribution of a cirq.TrialResult.\"\"\"\n",
    "counts = cirq.plot_state_histogram(out)\n",
    "print(\"counts =\", counts)"
   ]
  },
  {
   "cell_type": "markdown",
   "metadata": {},
   "source": [
    "<p style=\"text-align: justify;\"> \n",
    "For such a simple quantum algorithm, any quantum computer simulator is essentially equivalent. However, as algorithms scale to larger numbers of qubits and larger numbers of gates, runtime of the simulator can become important. The best current methods for classically simulating quantum circuits peak somewhere around 50 qubits due to memory requirements. (Note that this is the memory limitations of the world's best supercomputers.) For a fixed number of qubits, better simulators can simulate circuits with lower overall runtime, a desirable feature for many applications. \n",
    "</p>\n",
    "\n",
    "<p style=\"text-align: justify;\"> \n",
    "Below we test the performance of Cirq's simulators along these lines. After, we discuss other important capabilities of quantum computer simulators such as noise modeling.\n",
    "</p>"
   ]
  },
  {
   "cell_type": "markdown",
   "metadata": {},
   "source": [
    "### <p style=\"text-align: center;\"> 1. Performance of the Simulators </p> "
   ]
  },
  {
   "cell_type": "markdown",
   "metadata": {},
   "source": [
    "<p style=\"text-align: justify;\"> \n",
    "Here we test the performance of Cirq's simulators using random quantum circuits with different numbers of qubits and total depth. The particular form of the circuit we will consider consists of random single qubit rotations on all qubits, then a layer of entangling CNOT gates with one qubit randomly selected as the control. We define the layer of single qubit rotations plus the layer of entangling CNOTs to have a depth of one. (A circuit diagram is shown below in the article.)\n",
    "</p>\n",
    "\n",
    "<p style=\"text-align: justify;\"> \n",
    "The code for testing the simulator is contained in a separate Python file called `cirq_code.py`. Within this file is a function called `sim_test` which inputs the number of qubits, depth of the circuit, number of times to run the circuit (also called _shots_ or _repetitions_), and which simulator in Cirq to use. This function creates a random circuit of the form described above, runs it for the desired number of times, then returns the wall clock time for how long it took. An example of using this function is shown in the code cell below.\n",
    "</p>"
   ]
  },
  {
   "cell_type": "code",
   "execution_count": 10,
   "metadata": {},
   "outputs": [
    {
     "name": "stdout",
     "output_type": "stream",
     "text": [
      "Circuit structure shown below:\n",
      "0: ───Rx(1.108π)───Ry(0.38π)────Rz(0.312π)───X───────M───────\n",
      "                                             │\n",
      "1: ───Rx(1.264π)───Ry(1.675π)───Rz(1.996π)───@───@───@───M───\n",
      "                                                 │   │\n",
      "2: ───Rx(0.777π)───Ry(1.452π)───Rz(1.11π)────────X───┼───M───\n",
      "                                                     │\n",
      "3: ───Rx(0.877π)───Ry(0.828π)───Rz(0.548π)───────────X───M───\n",
      "\n",
      "It took 0.07 seconds to run the circuit above.\n"
     ]
    }
   ],
   "source": [
    "\"\"\"Simulator performance test for a small circuit. Note that the circuit structure will be random.\"\"\"\n",
    "# import the simulator test function\n",
    "from cirq_code import sim_test\n",
    "\n",
    "# inputs to sim_test\n",
    "nqubits = 4         # number of qubits\n",
    "depth = 1           # depth of circuit\n",
    "nreps = 1           # number of repetitions\n",
    "verbose = True      # verbose output (prints circuit)\n",
    "sim_type = 0        # 0 <==> XmonSimulator, 1 <==> Simulator\n",
    "\n",
    "# do the timing test\n",
    "time = sim_test(nqubits, depth, nreps, verbose=verbose, sim_type=sim_type)\n",
    "\n",
    "# display the output\n",
    "print(\"\\nIt took %0.2f seconds to run the circuit above.\" % time)"
   ]
  },
  {
   "cell_type": "markdown",
   "metadata": {},
   "source": [
    "For such a small circuit, the runtime is almost instantaneous. As we scale to larger and larger circuits, however, the complexity of simulating the circuit increases. Below we up the scale to 20 qubits with a depth of 10."
   ]
  },
  {
   "cell_type": "code",
   "execution_count": 11,
   "metadata": {},
   "outputs": [
    {
     "name": "stdout",
     "output_type": "stream",
     "text": [
      "\n",
      "It took 29.65 seconds to run the circuit.\n"
     ]
    }
   ],
   "source": [
    "\"\"\"Simulator performance test for larger circuit.\"\"\"\n",
    "# inputs to sim_test\n",
    "nqubits = 20        # number of qubits\n",
    "depth = 10          # depth of circuit\n",
    "nreps = 1           # number of repetitions\n",
    "verbose=False       # verbose output (prints circuit)\n",
    "\n",
    "# do the timing test\n",
    "time = sim_test(nqubits, depth, nreps, verbose=verbose)\n",
    "\n",
    "# display the output\n",
    "print(\"\\nIt took %0.2f seconds to run the circuit.\" % time)"
   ]
  },
  {
   "cell_type": "markdown",
   "metadata": {},
   "source": [
    "<p style=\"text-align: justify;\"> \n",
    "Here the code takes noticeably longer to run. For many applications, simulating large circuits quickly is an important task. We use the `sim_test` function above to test the performance of both the `Simulator` and `XmonSimulator` by sweeping over values of qubits and depth. In particular, we sweep over the qubit numbers $n = 10, 12, ..., 24$ and depths $d = 20, 40, ..., 100$ and time the simulator performance at each. The results of this study are displayed in the figure below.\n",
    "</p>"
   ]
  },
  {
   "cell_type": "markdown",
   "metadata": {},
   "source": [
    "<img src=\"cirq-sim-plot.png\" width=600><img src=\"xmon-sim-plot.png\" width=600>\n",
    "<p style=\"text-align: center;\">Plots showing the performance of the `Simulator` (top) and `XmonSimulator` (bottom). The horizontal axis shows the number of qubits and the vertical axis shows the depth as defined above. Dark green represents faster simulation time and bright yellow represents longer simulation time. Values in each square show total overall runtime in seconds, averaged over many runs. Color scales are different for each plot.</p>"
   ]
  },
  {
   "cell_type": "markdown",
   "metadata": {},
   "source": [
    "<p style=\"text-align: justify;\"> \n",
    "As can be seen, the performance of the `XmonSimulator` and `Simulator` are similar in terms of overall runtime. Depending on the computer architecture, increasing the number of threads or _shards_ could increase the performance of the `XmonSimulator`. (This is discussed below in Section 2.) The maximum number of qubits that can be simulated depends on memory of the user's computer (more RAM implies larger circuits). The largest circuit the author attempted to run with the `Simulator` contained 26 qubits and a depth of 10 as defined above. This circuit finished running in just over one hour. Larger circuit instances throw `MemoryError`s on the author's computer. (For reference, on a similar circuit with a depth of 20, the state vector simulator in QISKit is able to simulate 25 qubits in 160 seconds, and the C++ simulator in ProjectQ is able to simulate 27 qubits in 504 seconds <a href=\"#LaR2018\">[LaR2018]</a>.)\n",
    "</p>\n",
    "\n",
    "<p style=\"text-align: justify;\"> \n",
    "The resource requirements (memory and runtime) for simulating larger circuits quickly reaches the limitations of current supercomputers. Researchers at Google are very interested in using a quantum computer to simulate some circuit that a classical computer cannot feasibly do, a feat called _quantum supremacy_. Cirq contains built-in functions for generating so-called \"supremacy circuits,\" as can be seen below.\n",
    "</p>"
   ]
  },
  {
   "cell_type": "code",
   "execution_count": 12,
   "metadata": {
    "scrolled": false
   },
   "outputs": [
    {
     "name": "stdout",
     "output_type": "stream",
     "text": [
      "              ┌──┐\n",
      "(0, 5): ───H───T────@───────Y^0.5───T────────────────────H───\n",
      "                    │\n",
      "(0, 6): ───H───T────@───────@───────Y^0.5────────T───────H───\n",
      "                            │\n",
      "(1, 5): ───H───T────────────┼───────@────────────@───────H───\n",
      "                            │       │            │\n",
      "(1, 6): ───H───@────Y^0.5───@───────┼────X^0.5───@───────H───\n",
      "               │                    │\n",
      "(2, 5): ───H───┼T───@───────X^0.5───@────────────Y^0.5───H───\n",
      "               │    │\n",
      "(2, 6): ───H───@────@───────X^0.5───T────────────────────H───\n",
      "              └──┘\n"
     ]
    }
   ],
   "source": [
    "\"\"\"Display a quantum supremacy circuit on the first three rows of Bristlecone with a CZ depth of 5.\"\"\"\n",
    "print(cirq.generate_supremacy_circuit_google_v2_bristlecone(3, 5, 0))"
   ]
  },
  {
   "cell_type": "markdown",
   "metadata": {},
   "source": [
    "<p style=\"text-align: justify;\"> \n",
    "(In the circuit diagram, brackets at the top/bottom are placed when operations are in the same moment but it is impossible to draw them all in the same column. In the second moment, all $T$ gates and the Controlled-$Z$ gates, which are all encompassed by the top/bottom brackets, happen simultaneously.)\n",
    "</p>\n",
    "\n",
    "<p style=\"text-align: justify;\"> \n",
    "As we've seen above, this small circuit using only three rows (six qubits) of Bristlecone could be easily simulated by a classical computer. However, extending the circuit to all qubits on Bristlecone generates a circuit that is extremely difficult to classically simulate. Quantum supremacy is expected to be announced within the next few years.\n",
    "</p>"
   ]
  },
  {
   "cell_type": "markdown",
   "metadata": {},
   "source": [
    "### <p style=\"text-align: center;\"> 2. Features of the Simulators </p> "
   ]
  },
  {
   "cell_type": "markdown",
   "metadata": {},
   "source": [
    "<p style=\"text-align: justify;\"> \n",
    "While raw performance is an important aspect of simulators, other features such as noise capabilities and special-purpose simulators (e.g., Clifford circuit simulators) are equally if not more important. In particular, noise capabilities allow users to mimic the evolution on real quantum hardware and get better estimates of the performance of their algorithms. The software packages pyQuil and QISKit contain these features.\n",
    "</p>\n",
    "\n",
    "<p style=\"text-align: justify;\"> \n",
    "Currently, Cirq does not contain any obvious support for noisy circuit simulation for either the `Simulator` or `XmonSimulator`. As Cirq is still in alpha testing, however, these features are likely to be implemented in future releases.\n",
    "</p>\n",
    "\n",
    "<p style=\"text-align: justify;\"> \n",
    "For now, notable features of the simulators include multi-threading for the `XmonSimulator` and access to the wave function for both simulators. To get a simulator that uses multiple threads, we can pass an `XmonOptions` object specified with the number of threads into the `XmonSimulator`, as shown below.\n",
    "</p>"
   ]
  },
  {
   "cell_type": "code",
   "execution_count": 13,
   "metadata": {},
   "outputs": [],
   "source": [
    "\"\"\"Get an XmonSimulator with multiple threads (shards).\"\"\"\n",
    "options = cirq.google.sim.XmonOptions(num_shards=2)\n",
    "simulator = cirq.google.XmonSimulator(options)"
   ]
  },
  {
   "cell_type": "markdown",
   "metadata": {},
   "source": [
    "<p style=\"text-align: justify;\"> \n",
    "This simulator can then be used to execute circuits in the same way as above.\n",
    "</p>\n",
    "\n",
    "<p style=\"text-align: justify;\"> \n",
    "Additionally, there are two types of methods that simulators support, the \"run methods\" and the \"simulate methods.\" The \"run methods\" (`run` and `run_sweep`) emulate quantum computer hardware and only return measurement results. (The `run` method is what we used above to test the simulator performance.) For full access to the wavefunction and for debugging purposes, the \"simulate methods\" (`simulate`, `simulate_sweep`, and `simulate_moment_steps`) can be used. An example of using a simulate method is shown below.\n",
    "</p>"
   ]
  },
  {
   "cell_type": "code",
   "execution_count": 14,
   "metadata": {},
   "outputs": [
    {
     "name": "stdout",
     "output_type": "stream",
     "text": [
      "0: ───H───@───\n",
      "          │\n",
      "1: ───────X───\n"
     ]
    }
   ],
   "source": [
    "\"\"\"Use the \"simulate methods\" to get full access to the wavefunction.\"\"\"\n",
    "# make a bell state preparation circuit\n",
    "circ = cirq.Circuit()\n",
    "qbits = [cirq.LineQubit(x) for x in range(2)]\n",
    "circ.append([cirq.H(qbits[0]), cirq.CNOT(qbits[0], qbits[1])])\n",
    "\n",
    "# print out the circuit\n",
    "print(circ)\n",
    "\n",
    "# simulate the circuit\n",
    "res = simulator.simulate(circ)"
   ]
  },
  {
   "cell_type": "markdown",
   "metadata": {},
   "source": [
    "Once the circuit has been simulated, the result `res` is stored as a `SimulationTrialResult`. This output supports several useful features including generating the wavefunction, (reduced) density matrix, and even Dirac notation of the state. A few of these features are demonstrated below."
   ]
  },
  {
   "cell_type": "code",
   "execution_count": 15,
   "metadata": {},
   "outputs": [
    {
     "name": "stdout",
     "output_type": "stream",
     "text": [
      "The wavefunction of the final state is:\n",
      " [-3.0908623e-08+0.7071068j  2.5716280e-16+0.j\n",
      " -3.0908616e-08+0.j         6.1817239e-08+0.7071068j]\n",
      "\n",
      "The Dirac notation for the final state is:\n",
      " (0.71j)|00⟩ + (0.71j)|11⟩\n",
      "\n",
      "The density matrix of the final state is:\n",
      " [[ 5.0000006e-01+0.0000000e+00j -7.9485483e-24+1.8184158e-16j\n",
      "   9.5534273e-16-2.1855694e-08j  5.0000006e-01+6.5567093e-08j]\n",
      " [-7.9485483e-24-1.8184158e-16j  6.6132707e-32+0.0000000e+00j\n",
      "  -7.9485467e-24-0.0000000e+00j  1.5897095e-23-1.8184158e-16j]\n",
      " [ 9.5534273e-16+2.1855694e-08j -7.9485467e-24+0.0000000e+00j\n",
      "   9.5534252e-16+0.0000000e+00j -1.9106853e-15+2.1855694e-08j]\n",
      " [ 5.0000006e-01-6.5567093e-08j  1.5897095e-23+1.8184158e-16j\n",
      "  -1.9106853e-15-2.1855694e-08j  5.0000006e-01+0.0000000e+00j]]\n",
      "\n",
      "The reduced density matrix of the first qubit is:\n",
      " [[5.0000006e-01+0.0000000e+00j 9.5534273e-16-2.1855694e-08j]\n",
      " [9.5534273e-16+2.1855694e-08j 5.0000006e-01+0.0000000e+00j]]\n"
     ]
    }
   ],
   "source": [
    "\"\"\"Use the output of a simulation to generate the wavefunction, density matrix, and Dirac notation.\"\"\"\n",
    "# show the wavefunction\n",
    "print(\"The wavefunction of the final state is:\\n\", res.final_state, end=\"\\n\")\n",
    "\n",
    "# show the Dirac notation for the state\n",
    "print(\"\\nThe Dirac notation for the final state is:\\n\", res.dirac_notation())\n",
    "\n",
    "# show the density matrix of the total state\n",
    "print(\"\\nThe density matrix of the final state is:\\n\", res.density_matrix())\n",
    "\n",
    "# show the reduced density matrix of the first qubit\n",
    "print(\"\\nThe reduced density matrix of the first qubit is:\\n\", res.density_matrix([0]))"
   ]
  },
  {
   "cell_type": "markdown",
   "metadata": {},
   "source": [
    "# <p style=\"text-align: center;\"> III. Features of Cirq </p> "
   ]
  },
  {
   "cell_type": "markdown",
   "metadata": {},
   "source": [
    "<p style=\"text-align: justify;\"> \n",
    "In the previous section, we looked at features of the quantum computer simulators of Cirq. In this section we discuss notable features of the entire Cirq platform, including methods for manipulating, parameterizing, optimizing, and compiling circuits. Since each \"full-stack\" software platform has the same goal (programming a quantum computer), the features of each are what set them apart. Our coverage is not comprehensive (see the documentation for all features) but consists of features we find particularly notable or useful.\n",
    "</p>"
   ]
  },
  {
   "cell_type": "markdown",
   "metadata": {},
   "source": [
    "## <p style=\"text-align: center;\"> A. Manipulating Circuits </a></p> "
   ]
  },
  {
   "cell_type": "markdown",
   "metadata": {},
   "source": [
    "<p style=\"text-align: justify;\"> \n",
    "As suggested by the name, the main utility of Cirq is working with and manipulating quantum circuits. By \"manipulating quantum circuits,\" we mean operations of the following form:\n",
    "</p>\n",
    "\n",
    "* Creating quantum circuits.\n",
    "* Performing arithmetic with circuits.\n",
    "* Inserting instructions in a circuit.\n",
    "* Removing instructions from a circuit.\n",
    "* Gaining information about a circuit.\n",
    "\n",
    "<p style=\"text-align: justify;\"> \n",
    "In order to demonstrate these operations, we'll first import a function for creating quantum circuits with random single qubit gates.\n",
    "</p>"
   ]
  },
  {
   "cell_type": "code",
   "execution_count": 17,
   "metadata": {
    "scrolled": true
   },
   "outputs": [
    {
     "name": "stdout",
     "output_type": "stream",
     "text": [
      "0: ───X───X^0.5───X───H───────T───\n",
      "\n",
      "1: ───Z───H───────Z───H───────Z───\n",
      "\n",
      "2: ───T───Z───────Z───Z───────T───\n",
      "\n",
      "3: ───H───T───────Z───X^0.5───T───\n",
      "\n",
      "4: ───T───Y───────Z───X^0.5───X───\n"
     ]
    }
   ],
   "source": [
    "\"\"\"Get a function for creating circuits with random one-qubit gates.\"\"\"\n",
    "from cirq_code import random_circuit\n",
    "\n",
    "# create a random circuit with 5 qubits and 5 moments\n",
    "circ, qbits = random_circuit(5, 5)\n",
    "print(circ)"
   ]
  },
  {
   "cell_type": "markdown",
   "metadata": {},
   "source": [
    "Circuits are stored as iterables of _moments_, where a moment is a set of operations that happens at the same time. To see each moment comprising a circuit, we can do the following:"
   ]
  },
  {
   "cell_type": "code",
   "execution_count": 18,
   "metadata": {
    "scrolled": false
   },
   "outputs": [
    {
     "name": "stdout",
     "output_type": "stream",
     "text": [
      "X(0) and Z(1) and T(2) and H(3) and T(4)\n",
      "X**0.5(0) and H(1) and Z(2) and T(3) and Y(4)\n",
      "X(0) and Z(1) and Z(2) and Z(3) and Z(4)\n",
      "H(0) and H(1) and Z(2) and X**0.5(3) and X**0.5(4)\n",
      "T(0) and Z(1) and T(2) and T(3) and X(4)\n"
     ]
    }
   ],
   "source": [
    "\"\"\"Print out each moment in the circuit.\"\"\"\n",
    "for moment in circ:\n",
    "    print(moment)"
   ]
  },
  {
   "cell_type": "markdown",
   "metadata": {},
   "source": [
    "This output tells us exactly what we see in the circuit diagram above as we move from left to right in the circuit."
   ]
  },
  {
   "cell_type": "markdown",
   "metadata": {},
   "source": [
    "<p style=\"text-align: justify;\"> \n",
    "Arithmetic can be performed on circuits in a natural way. For example, the sum of two circuits is a circuit consisting of all moments from the first circuit then all moments from the second circuit. Circuit multiplication is repeated addition of the same circuit. While simple, these operations are very useful when designing circuits, especially variational circuits. (Note that pyQuil and QISKit also have circuit arithmetic.) In this case, one circuit can be dedicated to, say, state preparation, while the other contains the variational ansatz. The circuit to be executed then consists of the sum of the two.\n",
    "</p>\n",
    "\n",
    "<p style=\"text-align: justify;\"> \n",
    "In many other cases with variational algorithms, it is desirable to remove specific gates from a circuit. Cirq provides a simple built-in method to perform this task, demonstrated below.\n",
    "</p>"
   ]
  },
  {
   "cell_type": "code",
   "execution_count": 19,
   "metadata": {
    "scrolled": false
   },
   "outputs": [
    {
     "name": "stdout",
     "output_type": "stream",
     "text": [
      "0: ───X───X^0.5───X───H───────T───\n",
      "\n",
      "1: ───Z───────────────────────Z───\n",
      "\n",
      "2: ───T───────────────────────T───\n",
      "\n",
      "3: ───H───────────────────────T───\n",
      "\n",
      "4: ───T───Y───────Z───X^0.5───X───\n"
     ]
    }
   ],
   "source": [
    "\"\"\"Clear operations from a circuit.\"\"\"\n",
    "circ.clear_operations_touching(qbits[1:4], range(1, 4))\n",
    "print(circ)"
   ]
  },
  {
   "cell_type": "markdown",
   "metadata": {},
   "source": [
    "<p style=\"text-align: justify;\"> \n",
    "In the same manner, Cirq contains methods for inserting operations into a circuit, such as `batch_insert`, which inserts a sequence of (location, operation) pairs into the circuit, as demonstrated below.\n",
    "</p>"
   ]
  },
  {
   "cell_type": "code",
   "execution_count": 20,
   "metadata": {
    "scrolled": true
   },
   "outputs": [
    {
     "name": "stdout",
     "output_type": "stream",
     "text": [
      "0: ───X───X^0.5───X───H───────T───\n",
      "\n",
      "1: ───Z───────────@───────────Z───\n",
      "                  │\n",
      "2: ───T───@───────┼───────────T───\n",
      "          │       │\n",
      "3: ───H───@───────X───────────T───\n",
      "\n",
      "4: ───T───Y───────Z───X^0.5───X───\n"
     ]
    }
   ],
   "source": [
    "\"\"\"Insert operations into a circuit at specific locations.\"\"\"\n",
    "circ.batch_insert([(1, cirq.CZ(qbits[2], qbits[3])), \n",
    "                   (2, cirq.CNOT(qbits[1], qbits[3]))])\n",
    "print(circ)"
   ]
  },
  {
   "cell_type": "markdown",
   "metadata": {},
   "source": [
    "<p style=\"text-align: justify;\"> \n",
    "Here we have inserted two-qubit gates (for clarity) into the region in which we previously removed gates. Although these abilities may appear to be contrived, operations of this form are particularly useful for programming variational quantum algorithms.\n",
    "</p>\n",
    "\n",
    "<p style=\"text-align: justify;\"> \n",
    "In addition to manipulating quantum circuits, there are many methods built in to circuits that return useful information. Among these are `all_operations`, `all_qubits`, and `next_moment_operating_on` (also `prev_moment_operating_on`). A full set of circuit methods returning information about the circuit or modifying the circuit in place can be found in the documentation. Lastly, we remark that a circuit can be turned into a unitary matrix by using the method `to_unitary_matrix`.\n",
    "</p>"
   ]
  },
  {
   "cell_type": "markdown",
   "metadata": {},
   "source": [
    "## <p style=\"text-align: center;\"> B. Parameterizing Circuits </p> "
   ]
  },
  {
   "cell_type": "markdown",
   "metadata": {},
   "source": [
    "<p style=\"text-align: justify;\"> \n",
    "Because of Cirq's strong support for variational quantum algorithms (in which parameters/angles of an algorithm are iteratively changed to minimize an energy or cost function), the platform provides useful features for working with these types of circuits. In particular, two components are particularly notable for this task: `Symbol`s and simulating/running \"sweeps\" of circuits, which we now elaborate on.\n",
    "</p>\n",
    "\n",
    "<p style=\"text-align: justify;\"> \n",
    "Rather than having to create a new quantum circuit for every new set of variables, Cirq allows gates with parameters to have `Symbol`s, which can be resolved by a `ParamResolver` with a given set of angles. In addition to cleaning up code, this decreases overall runtime of programs by avoiding the task of creating a new quantum circuit for every given set of angles. An example of creating a circuit with `Symbol`s is shown below.\n",
    "</p>"
   ]
  },
  {
   "cell_type": "code",
   "execution_count": 18,
   "metadata": {},
   "outputs": [
    {
     "name": "stdout",
     "output_type": "stream",
     "text": [
      "0: ───X^(-3/7)───X^t───M('z')───\n"
     ]
    }
   ],
   "source": [
    "\"\"\"Create a circuit that contains a symbol.\"\"\"\n",
    "# get a circuit and a qubit\n",
    "circ = cirq.Circuit()\n",
    "qbit = cirq.LineQubit(0)\n",
    "\n",
    "# add a gate with a definite angle\n",
    "circ.append([cirq.XPowGate(exponent=np.pi / 2)(qbit)])\n",
    "\n",
    "# add a gate with a symbol which can take any value\n",
    "sym = cirq.Symbol(\"t\")\n",
    "gate = cirq.XPowGate(exponent=sym)\n",
    "circ.append([gate(qbit)])\n",
    "\n",
    "# add a measurement\n",
    "circ.append(cirq.measure(qbit, key=\"z\"))\n",
    "\n",
    "# show the circuit diagram\n",
    "print(circ)"
   ]
  },
  {
   "cell_type": "markdown",
   "metadata": {},
   "source": [
    "<p style=\"text-align: justify;\"> \n",
    "When we print out the circuit diagram, we see that we have one gate with a definite parameter (the first gate) and another with a symbol $t$, which we must instantiate with a value before trying to run a circuit. One way to do this is to explicitly use a `ParamResolver` to give $t$ a value, as follows.\n",
    "</p>"
   ]
  },
  {
   "cell_type": "code",
   "execution_count": 19,
   "metadata": {},
   "outputs": [
    {
     "data": {
      "image/png": "[encoded data removed]",
      "text/plain": [
       "<Figure size 432x288 with 1 Axes>"
      ]
     },
     "metadata": {},
     "output_type": "display_data"
    }
   ],
   "source": [
    "\"\"\"Run a parameterized circuit by resolving the circuit with a ParamResolver.\"\"\"\n",
    "# get a param resolver\n",
    "param_resolver = cirq.ParamResolver({sym.name: np.pi / 4})\n",
    "\n",
    "# run the resolved circuit using the param resolver\n",
    "res = simulator.run(circ, param_resolver, repetitions=500)\n",
    "\n",
    "# plot the output distribution\n",
    "vals = cirq.plot_state_histogram(res)"
   ]
  },
  {
   "cell_type": "markdown",
   "metadata": {},
   "source": [
    "<p style=\"text-align: justify;\"> \n",
    "With this method, we only have to change the value of the `ParamResolver` to change the circuit. By looping over many values, we can find the minimum of some cost function defined for a variational algorithm. A slightly simplified way to do this in Cirq is by using the \"sweep\" methods, e.g. `run_sweep` or `simulate_sweep`, to loop over these values automatically. A simple example of doing so using the same circuit above is as follows.\n",
    "</p>"
   ]
  },
  {
   "cell_type": "code",
   "execution_count": 21,
   "metadata": {},
   "outputs": [
    {
     "data": {
      "image/png": "[encoded data removed]",
      "text/plain": [
       "<Figure size 432x288 with 1 Axes>"
      ]
     },
     "metadata": {},
     "output_type": "display_data"
    }
   ],
   "source": [
    "\"\"\"Sweep over a set of values to run a parameterized circuit at.\"\"\"\n",
    "# get a \"sweep\" of values\n",
    "sweep = cirq.Linspace(key=sym.name, start=0, stop=np.pi, length=100)\n",
    "\n",
    "# run the circuit at all values in the sweep\n",
    "res = simulator.run_sweep(circ, sweep, repetitions=1000)\n",
    "\n",
    "# plot the frequency of zero outputs for all values in the sweep\n",
    "tvals = [x[0][1] for x in sweep.param_tuples()]\n",
    "cvals = [res[i].histogram(key=\"z\")[0]/1000 for i in range(len(res))]\n",
    "plt.plot(tvals, cvals, \"-o\", linewidth=2)\n",
    "\n",
    "# plot style\n",
    "plt.grid(); plt.xlabel(\"t\"); plt.ylabel(\"Frequency of 0 Measurement\"); plt.title(\"Sweeping over parameters in a circuit\");"
   ]
  },
  {
   "cell_type": "markdown",
   "metadata": {},
   "source": [
    "## <p style=\"text-align: center;\"> C. Optimizing Circuits </p> "
   ]
  },
  {
   "cell_type": "markdown",
   "metadata": {},
   "source": [
    "<p style=\"text-align: justify;\"> \n",
    "<i>Quantum compiling</i> consists of rewriting a given algorithm in terms of gates a quantum computer can actually implement (a <i>native gate set</i> or simply <i>gate set</i>). Cirq has functionality to create a circuit for a particular `Device` (see <i>Devices and Schedules</i> below) and automatically compile gates into the native gate set. A similar problem is that of <i>quantum circuit optimization</i>, by which we mean rewriting a quantum circuit to contain as few gates as possible. For example, we would never implement two Pauli operations ($X$, $Y$, $Z$) in sequence because they square to the identity. Similar ideas apply to other gates. This task is critical for NISQ hardware as errors accumulate through gate application and decoherence throughout the algorithm. \n",
    "</p>\n",
    "\n",
    "<p style=\"text-align: justify;\"> \n",
    "Cirq provides several utilities for quantum circuit optimization, which we demonstrate below without specification to a native gate set. (The exact same functionality works for circuits tied to a `Device`.) First, we obtain a random circuit consisting of only single qubit gates for simplicity.\n",
    "</p>"
   ]
  },
  {
   "cell_type": "code",
   "execution_count": 25,
   "metadata": {
    "scrolled": false
   },
   "outputs": [
    {
     "name": "stdout",
     "output_type": "stream",
     "text": [
      "0: ───X───────Y───────Z───H───────H───\n",
      "\n",
      "1: ───X^0.5───X^0.5───H───X^0.5───Z───\n",
      "\n",
      "2: ───H───────T───────H───X^0.5───Y───\n",
      "\n",
      "3: ───X^0.5───X───────Y───T───────Z───\n"
     ]
    }
   ],
   "source": [
    "\"\"\"Get a random circuit.\"\"\"\n",
    "circ, qbits = random_circuit(4, 5)\n",
    "\n",
    "print(circ)"
   ]
  },
  {
   "cell_type": "markdown",
   "metadata": {},
   "source": [
    "<p style=\"text-align: justify;\"> \n",
    "The random circuit we obtained is shown above. The first optimization pass we will try is `EjectZ`, which rewrites the circuit by attempting to push all $Z$ gates to the end of the circuit.\n",
    "</p> "
   ]
  },
  {
   "cell_type": "code",
   "execution_count": 26,
   "metadata": {
    "scrolled": false
   },
   "outputs": [
    {
     "name": "stdout",
     "output_type": "stream",
     "text": [
      "0: ───X───────Y───────Z───H─────────H───\n",
      "\n",
      "1: ───X^0.5───X^0.5───H───X^0.5─────Z───\n",
      "\n",
      "2: ───H───────T───────H───X^0.5─────Y───\n",
      "\n",
      "3: ───X^0.5───X───────Y───Z^-0.75───────\n"
     ]
    }
   ],
   "source": [
    "\"\"\"Push Z gates toward the end of the circuit.\"\"\"\n",
    "ejectZ = cirq.optimizers.EjectZ()\n",
    "ejectZ.optimize_circuit(circ)\n",
    "print(circ)"
   ]
  },
  {
   "cell_type": "markdown",
   "metadata": {},
   "source": [
    "<p style=\"text-align: justify;\"> \n",
    "As we can see, all $Z$ operations now appear at the right-most portion of the circuit. Next we will perform a similar optimization pass, this time attempting to push $X$, $Y$, and `PhasedXPowGate`s to the right.\n",
    "</p> "
   ]
  },
  {
   "cell_type": "code",
   "execution_count": 27,
   "metadata": {},
   "outputs": [
    {
     "name": "stdout",
     "output_type": "stream",
     "text": [
      "0: ───────────Z───────Z───H─────────H───\n",
      "\n",
      "1: ───X^0.5───X^0.5───H───X^0.5─────Z───\n",
      "\n",
      "2: ───H───────T───────H───X^0.5─────Y───\n",
      "\n",
      "3: ───X^0.5───────────Z───Z^-0.75───────\n"
     ]
    }
   ],
   "source": [
    "\"\"\"Push X, Y, and PhasedXPow gates toward the end of the circuit.\"\"\"\n",
    "ejectPaulis = cirq.optimizers.EjectPhasedPaulis()\n",
    "ejectPaulis.optimize_circuit(circ)\n",
    "\n",
    "print(circ)"
   ]
  },
  {
   "cell_type": "markdown",
   "metadata": {},
   "source": [
    "<p style=\"text-align: justify;\">\n",
    "Another circuit optimization provided by Cirq is merging all single qubit gates into `PhasedXPow` and `PhasedZPow` gates, which we demonstrate below.\n",
    "</p>"
   ]
  },
  {
   "cell_type": "code",
   "execution_count": 28,
   "metadata": {},
   "outputs": [
    {
     "name": "stdout",
     "output_type": "stream",
     "text": [
      "1: ───X^0.5─────S───\n",
      "\n",
      "2: ───X^-0.25───Z───\n",
      "\n",
      "3: ───X^0.5─────T───\n"
     ]
    }
   ],
   "source": [
    "\"\"\"Merge single qubit gates into PhasedX and PhasedZ gates.\"\"\"\n",
    "cirq.merge_single_qubit_gates_into_phased_x_z(circ)\n",
    "\n",
    "print(circ)"
   ]
  },
  {
   "cell_type": "markdown",
   "metadata": {},
   "source": [
    "<p style=\"text-align: justify;\">\n",
    "We see that the entire circuit is now expressed in terms of these gates. As a last touch, we can attempt to drop any gates that have a \"negligible\" (i.e., very small) effect on the overall circuit and drop empty `moment`s in the circuit.\n",
    "</p>"
   ]
  },
  {
   "cell_type": "code",
   "execution_count": 29,
   "metadata": {
    "scrolled": true
   },
   "outputs": [
    {
     "name": "stdout",
     "output_type": "stream",
     "text": [
      "1: ───X^0.5─────S───\n",
      "\n",
      "2: ───X^-0.25───Z───\n",
      "\n",
      "3: ───X^0.5─────T───\n"
     ]
    }
   ],
   "source": [
    "\"\"\"Removes operations with a tiny effect and drop empty moments in the circuit.\"\"\"\n",
    "# drop negligible gates\n",
    "drop_neg = cirq.optimizers.DropNegligible()\n",
    "drop_neg.optimize_circuit(circ)\n",
    "\n",
    "# drop empty moments\n",
    "drop_empty = cirq.optimizers.DropEmptyMoments()\n",
    "drop_empty.optimize_circuit(circ)\n",
    "\n",
    "print(circ)"
   ]
  },
  {
   "cell_type": "markdown",
   "metadata": {},
   "source": [
    "<p style=\"text-align: justify;\">\n",
    "Cirq also allows single qubit gates to be merged into arbitrary two by two unitary transformations. These may not in general have a specified name like $H$, $T$, etc., so the quantum circuit drawer simply shows matrix elements:\n",
    "</p>"
   ]
  },
  {
   "cell_type": "code",
   "execution_count": 30,
   "metadata": {
    "scrolled": true
   },
   "outputs": [
    {
     "name": "stdout",
     "output_type": "stream",
     "text": [
      "1: ───┌                   ┐───────────\n",
      "      │ 0.5+0.5j  0.5-0.5j│\n",
      "      │ 0.5+0.5j -0.5+0.5j│\n",
      "      └                   ┘\n",
      "\n",
      "2: ───┌                           ┐───\n",
      "      │ 0.854-0.354j  0.146+0.354j│\n",
      "      │-0.146-0.354j -0.854+0.354j│\n",
      "      └                           ┘\n",
      "\n",
      "3: ───┌                         ┐─────\n",
      "      │0.5  +0.5j   0.5  -0.5j  │\n",
      "      │0.707-0.j    0.   +0.707j│\n",
      "      └                         ┘\n"
     ]
    }
   ],
   "source": [
    "\"\"\"Merge single qubit gates.\"\"\"\n",
    "merge = cirq.optimizers.MergeSingleQubitGates()\n",
    "merge.optimize_circuit(circ)\n",
    "\n",
    "print(circ)"
   ]
  },
  {
   "cell_type": "markdown",
   "metadata": {},
   "source": [
    "<p style=\"text-align: justify;\">\n",
    "We note that optimized circuits can be run/simulated with either the `Simulator` or `XmonSimulator` and that optimizing circuits before simulating them may result in improved performance. Below we simulate the above optimized circuit and display its wavefunction in Dirac notation.\n",
    "</p>"
   ]
  },
  {
   "cell_type": "code",
   "execution_count": 31,
   "metadata": {
    "scrolled": true
   },
   "outputs": [
    {
     "name": "stdout",
     "output_type": "stream",
     "text": [
      "(0.43+0.18j)|000⟩ + (0.43-0.18j)|001⟩ + (0.07-0.18j)|010⟩ + (-0.07-0.18j)|011⟩ + (0.43+0.18j)|100⟩ + (0.43-0.18j)|101⟩ + (0.07-0.18j)|110⟩ + (-0.07-0.18j)|111⟩\n"
     ]
    }
   ],
   "source": [
    "\"\"\"Run the optimized circuit and display its wavefunction in Dirac notation.\"\"\"\n",
    "res = simulator.simulate(circ)\n",
    "print(res.dirac_notation())"
   ]
  },
  {
   "cell_type": "markdown",
   "metadata": {},
   "source": [
    "<p style=\"text-align: justify;\">\n",
    "The Dirac notation of the wavefunction above corresponds to the same wavefunction we would have obtained by simulating the original circuit. Here, we achieved the same effect with much fewer gates.\n",
    "</p>\n",
    "\n",
    "<p style=\"text-align: justify;\">\n",
    "Of course, a given quantum computer cannot implement arbitrary gates like the simulator has done above. As mentioned, these gates need to be compiled into operations the computer can implement. Cirq provides this functionality with a `Device`, as we elaborate on below.\n",
    "</p>"
   ]
  },
  {
   "cell_type": "markdown",
   "metadata": {},
   "source": [
    "## <p style=\"text-align: center;\"> D. Devices and Schedules </p> "
   ]
  },
  {
   "cell_type": "markdown",
   "metadata": {},
   "source": [
    "<p style=\"text-align: justify;\">\n",
    "The existence of `Device`s and `Schedule`s again reflects Cirq's emphasis on near-term quantum computing. Briefly, a `Device` corresponds to a quantum computer with given constraints such as qubit connectivity and native gate sets. A `Schedule` corresponds to the real-time implementation of operations on a `Device`. Users have full control to specify any quantum computer architecture using a `Device` and can program a circuit for any given quantum computer. Because the documentation contains detailed information on user-defined devices and schedules, we omit this discussion here. Instead, we provide information on `Device`s by analyzing one that is already defined in Cirq. Namely, the Foxtail quantum computer.\n",
    "</p>\n",
    "\n",
    "<p style=\"text-align: justify;\">\n",
    "In the following code, we create a quantum circuit with its device set as Foxtail:\n",
    "</p>"
   ]
  },
  {
   "cell_type": "code",
   "execution_count": 32,
   "metadata": {},
   "outputs": [],
   "source": [
    "\"\"\"Make a quantum circuit whose device is the 22 qubit Foxtail quantum computer.\"\"\"\n",
    "# grab the device\n",
    "foxtail = cirq.google.Foxtail\n",
    "\n",
    "# get the qubits of foxtail\n",
    "qbits = sorted(list(foxtail.qubits))\n",
    "\n",
    "# make a circuit and set foxtail to be its device\n",
    "circ = cirq.Circuit(device=foxtail)"
   ]
  },
  {
   "cell_type": "markdown",
   "metadata": {},
   "source": [
    "<p style=\"text-align: justify;\">\n",
    "Once we grab the `Foxtail` device, we can get its qubits and then create a circuit. We can use the method `decompose_operation` of a `Device` to compile/decompose a gate operation. Below we show this for the example of the Hadamard gate.\n",
    "</p>"
   ]
  },
  {
   "cell_type": "code",
   "execution_count": 33,
   "metadata": {},
   "outputs": [
    {
     "name": "stdout",
     "output_type": "stream",
     "text": [
      "H((0, 0)) = [(cirq.Y**-0.5).on(cirq.GridQubit(0, 0)), (cirq.Z**-1.0).on(cirq.GridQubit(0, 0))]\n"
     ]
    }
   ],
   "source": [
    "\"\"\"Compile/decompose operations into the native gate set of Foxtail.\"\"\"\n",
    "# get the hadamard gate\n",
    "hgate = cirq.H(qbits[0])\n",
    "\n",
    "# compile/decompose the gate into native operations\n",
    "compiled_hgate = foxtail.decompose_operation(hgate)\n",
    "\n",
    "# print out the gate and its compilation\n",
    "print(hgate, \"=\", compiled_hgate)"
   ]
  },
  {
   "cell_type": "markdown",
   "metadata": {},
   "source": [
    "<p style=\"text-align: justify;\">\n",
    "Once we have compiled gates, we can append them into the circuit. Alternatively, if we add any gate operation into a circuit, they will get compiled automatically. Below we show this for the Bell state preparation circuit consisting of a Hadamard and CNOT gate.\n",
    "</p>"
   ]
  },
  {
   "cell_type": "code",
   "execution_count": 34,
   "metadata": {},
   "outputs": [
    {
     "name": "stdout",
     "output_type": "stream",
     "text": [
      "(0, 0): ───Y^-0.5───Z───────────────────@──────────────────────\n",
      "                                        │\n",
      "(0, 1): ────────────PhasedX(-0.5)^0.5───@───PhasedX(0.5)^0.5───\n"
     ]
    }
   ],
   "source": [
    "\"\"\"Adding operations to a circuit with a device compiles them automatically.\"\"\"\n",
    "# cnot gate\n",
    "cnot = cirq.CNOT(qbits[0], qbits[1])\n",
    "\n",
    "# append the operations\n",
    "circ.append([hgate, cnot])\n",
    "\n",
    "# print the circuit\n",
    "print(circ)"
   ]
  },
  {
   "cell_type": "code",
   "execution_count": 75,
   "metadata": {},
   "outputs": [
    {
     "name": "stdout",
     "output_type": "stream",
     "text": [
      "0: ───Y^-0.5───Z───PhasedX(-0.5)^t───Z───X───M('z')───\n",
      "                                         │\n",
      "1: ───Y^-0.5───Z───PhasedX(-0.5)^t───Z───@────────────\n"
     ]
    }
   ],
   "source": [
    "\"\"\"Attempt to optimize the circuit. Only commutes Z across CZ for a single Bell state preparation circuit, \n",
    "simplifies two sequential Bell state preparation circuits. (Run the cell above twice to see this.)\n",
    "\"\"\"\n",
    "ejectZ.optimize_circuit(circ)\n",
    "ejectPaulis.optimize_circuit(circ)\n",
    "drop_neg.optimize_circuit(circ)\n",
    "cirq.merge_single_qubit_gates_into_phased_x_z(circ)\n",
    "\n",
    "print(circ)"
   ]
  },
  {
   "cell_type": "markdown",
   "metadata": {},
   "source": [
    "<p style=\"text-align: justify;\">\n",
    "Here we can see the native operations of Foxtail (which are the same for Bristlecone). When running the circuit, these are the gates the computer actually implements. Another useful feature of `Device`s is that they contain timing information for each of the native gates. (When programming a user-defined `Device`, these values can be specified to match an arbitrary computer.) To see this information, we can use the `duration_of` method to see how long each native gate takes to implement.\n",
    "</p>"
   ]
  },
  {
   "cell_type": "code",
   "execution_count": 36,
   "metadata": {
    "scrolled": true
   },
   "outputs": [
    {
     "name": "stdout",
     "output_type": "stream",
     "text": [
      "Y time = 20.0 nanoseconds.\n",
      "Z time = 0.0 nanoseconds.\n",
      "CZ time = 50.0 nanoseconds.\n"
     ]
    }
   ],
   "source": [
    "\"\"\"See how long each native operation takes to implement.\"\"\"\n",
    "# grab the times of some native gates\n",
    "ytime = foxtail.duration_of(cirq.Y(qbits[0]))\n",
    "ztime = foxtail.duration_of(cirq.Z(qbits[0]))\n",
    "cztime = foxtail.duration_of(cirq.CZ(qbits[0], qbits[1]))\n",
    "\n",
    "# print them out\n",
    "print(\"Y time =\", ytime.total_nanos(), \"nanoseconds.\")\n",
    "print(\"Z time =\", ztime.total_nanos(), \"nanoseconds.\")\n",
    "print(\"CZ time =\", cztime.total_nanos(), \"nanoseconds.\")"
   ]
  },
  {
   "cell_type": "markdown",
   "metadata": {},
   "source": [
    "<p style=\"text-align: justify;\">\n",
    "Here we see that the single qubit gate $Y$ takes 20 nanoseconds to implement (on any qubit), and the two-qubit gate Controlled-$Z$ takes over twice as long to implement at 50 nanoseconds. The $Z$ gate takes no time to implement because it is a \"virtual\" gate. That is, it is implemented by shifting the clock of the software keeping track of the qubit and not by any physical operation acting on the qubit like the $Y$ or Controlled-$Z$ gate.\n",
    "</p>"
   ]
  },
  {
   "cell_type": "markdown",
   "metadata": {},
   "source": [
    "## <p style=\"text-align: center;\"> E. Other Features </p> "
   ]
  },
  {
   "cell_type": "markdown",
   "metadata": {},
   "source": [
    "<p style=\"text-align: justify;\">\n",
    "To conclude this section, we briefly mention other notable features of Cirq. \n",
    "</p>\n",
    "\n",
    "<p style=\"text-align: justify;\">\n",
    "In terms of library support, which we define to mean any built-in algorithms or examples demonstrating how to implement algorithms, several companies have used Cirq in collaboration with Google for various projects. For example, <a href=\"https://zapatacomputing.com/\">Zapata Computing</a> used Cirq to implement a quantum autoencoder, <a href=\"https://qcware.com/press/20180718\">QC Ware</a> used Cirq for implementing QAOA, and <a href=\"https://heisenberg.xyz/news/2018/07/heisenberg-cirq/\">Heisenberg Quantum Simulations</a> used Cirq to simulate the Anderson model. The documentation of Cirq contains an in-depth <a href=\"https://cirq.readthedocs.io/en/stable/tutorial.html\">tutorial</a> of a variational quantum algorithm, and the <a href=\"https://github.com/quantumlib/Cirq/tree/master/examples\">examples folder on Cirq's GitHub</a> contains detailed Python scripts on Grover's algorithm, the quantum Fourier Transform, the phase estimation algorithm, the Bernstein-Vazirani algorithm, and an example preparing BCS ground states for superconductors/superfluids.\n",
    "</p>\n",
    "\n",
    "<p style=\"text-align: justify;\">\n",
    "Cirq also contains integration with <a href=\"https://github.com/quantumlib/OpenFermion\">OpenFermion</a>, a hardware-agnostic library for simulating fermionic systems on quantum computers, through <a href=\"https://github.com/quantumlib/OpenFermion-Cirq\">OpenFermion-Cirq</a>. This library, also in alpha release, is focused on extending the functionality of OpenFermion \"by providing routines and tools for using Cirq to compile and compose circuits for quantum simulation algorithms\" (from the README).\n",
    "</p>\n",
    "\n",
    "<p style=\"text-align: justify;\">\n",
    "Other notable features of the Cirq library are quantum channels and stabilizers. These features are still labeled \"work in progress\" in the documentation, so for fairness we do not delve into these topics but rather note them as interesting and useful features once they are completed.\n",
    "</p>"
   ]
  },
  {
   "cell_type": "markdown",
   "metadata": {},
   "source": [
    "# <p style=\"text-align: center;\"> IV. Example Algorithms </p> "
   ]
  },
  {
   "cell_type": "markdown",
   "metadata": {},
   "source": [
    "In this final section, we look at example algorithms programmed in Cirq."
   ]
  },
  {
   "cell_type": "markdown",
   "metadata": {},
   "source": [
    "## <p style=\"text-align: center;\"> A. Quantum Teleportation Algorithm </p> "
   ]
  },
  {
   "cell_type": "markdown",
   "metadata": {},
   "source": [
    "<p style=\"text-align: justify;\"> \n",
    "For consistency with our comparison of pyQuil, QISKit, ProjectQ, and the Quantum Developer Kit <a href=\"#LaR2018\">[LaR2018]</a>, we include a complete program for the quantum teleportation algorithm below. This algorithm teleports an arbitrary quantum state $|\\psi\\rangle$ (which we take to be $|1\\rangle = X |0\\rangle$ for example below) from one person, Alice, to another, Bob, without either one knowing what the actual state is. More complete descriptions of this protocol can be found in any standard source on quantum computing, for example the <a href=\"https://quantumcomputingreport.com/resources/education/\">ones listed here</a>.\n",
    "</p>"
   ]
  },
  {
   "cell_type": "code",
   "execution_count": 37,
   "metadata": {},
   "outputs": [
    {
     "name": "stdout",
     "output_type": "stream",
     "text": [
      "0: ───X───────────H───@───M───\n",
      "                      │\n",
      "1: ───────H───@───────X───M───\n",
      "              │\n",
      "2: ───────────X───────────────\n"
     ]
    }
   ],
   "source": [
    "\"\"\"Quantum teleportation algorithm written in Cirq.\"\"\"\n",
    "# get qubits and a circuit\n",
    "qbits = [cirq.LineQubit(x) for x in range(3)]\n",
    "circ = cirq.Circuit()\n",
    "\n",
    "# Alice wants to teleport |1> to Bob\n",
    "circ.append(cirq.ops.X(qbits[0]))\n",
    "\n",
    "# Bell state preparation on Bob's qubits\n",
    "circ.append([cirq.ops.H(qbits[1]),\n",
    "    cirq.ops.CNOT(qbits[1], qbits[2])])\n",
    "            \n",
    "# Bell state measurement on Alice's qubits\n",
    "circ.append([cirq.ops.H(qbits[0]),\n",
    "    cirq.ops.CNOT(qbits[0], qbits[1]),\n",
    "    cirq.measure(qbits[0]),\n",
    "    cirq.measure(qbits[1])])\n",
    "\n",
    "# print out the circuit\n",
    "print(circ)"
   ]
  },
  {
   "cell_type": "markdown",
   "metadata": {},
   "source": [
    "<p style=\"text-align: justify;\"> \n",
    "To the author's knowledge, there does not exist an easy way to perform classical conditional operations, such as those required by the quantum teleportation algorithm, in Cirq. However, we can use the \"simulate\" methods of Cirq to get the state of the third qubit, as shown below. Note that both measurement outcomes are deterministically zero in this situation, so no conditional operations are required.\n",
    "</p>"
   ]
  },
  {
   "cell_type": "code",
   "execution_count": 38,
   "metadata": {},
   "outputs": [
    {
     "name": "stdout",
     "output_type": "stream",
     "text": [
      "[[ 7.6427419e-15+0.000000e+00j -1.5285484e-14+8.742277e-08j]\n",
      " [-1.5285484e-14-8.742277e-08j  9.9999988e-01+0.000000e+00j]]\n"
     ]
    }
   ],
   "source": [
    "\"\"\"Verify the state of the third qubit is |1> using the simulate methods.\"\"\"\n",
    "# simulate the circuit with access to the wavefunction\n",
    "res = simulator.simulate(circ)\n",
    "\n",
    "# print out the density matrix, which should be\n",
    "# [[0, 0],\n",
    "#  [0, 1]]\n",
    "print(res.density_matrix([2]))"
   ]
  },
  {
   "cell_type": "markdown",
   "metadata": {},
   "source": [
    "<p style=\"text-align: justify;\"> \n",
    "To within floating point precision, this is exactly the density matrix we expect.\n",
    "</p>"
   ]
  },
  {
   "cell_type": "markdown",
   "metadata": {},
   "source": [
    "## <p style=\"text-align: center;\"> B. Variational Algorithm </p> "
   ]
  },
  {
   "cell_type": "markdown",
   "metadata": {},
   "source": [
    "<p style=\"text-align: justify;\"> \n",
    "We now show an example of a variational quantum-classical algorithm using Cirq. The algorithm shown, called Variational Quantum State Diagonalization (VQSD), is used to diagonalize a quantum state (more generally, a positive semidefinite matrix) and was introduced in <a href=\"#La2018\">[La2018]</a>. Without going into all details in the paper, the algorithm works by taking as input two copies of a quantum state $\\rho$. For our simple illustrative example, we will use a one qubit state $\\rho = |+\\rangle \\langle +|$ which can be prepared by performing a Hadmard gate on each qubit at the start of the algorithm, $|+\\rangle := H |0\\rangle$. (Generally, VQSD assumes the state is prepared from some efficient process, a notable example being quantum simulation, for which VQSD can be used for entanglement spectroscopy and other condensed matter applications) Next, the algorithm implements a variational ansatz (or structure of the circuit), which we take to be $U(t) = R_z(\\pi / 2) X^t R_z(\\pi / 2)$ where $t$ is the only parameter. Finally, a measure of \"diagonality\" of the state after the ansatz circuit has been applied is computed. For our case, this amounts to a single CNOT gate and a measurement in the computational basis.\n",
    "</p>\n",
    "\n",
    "<p style=\"text-align: justify;\"> \n",
    "In general for variational algorithms, a (classical) optimization algorithm can be used to find the best set of parameters for the ansatz. Here, we simply sweep over the parameter $t$ in our ansatz and plot the results to find the parameter that maximizes the measure of \"diagonality\" of $\\rho' := U \\rho U^\\dagger$. The complete program is shown below.\n",
    "</p>"
   ]
  },
  {
   "cell_type": "code",
   "execution_count": 72,
   "metadata": {},
   "outputs": [
    {
     "name": "stdout",
     "output_type": "stream",
     "text": [
      "0: ───H───Rz(0.5π)───X^t───Rz(0.5π)───X───M('z')───\n",
      "                                      │\n",
      "1: ───H───Rz(0.5π)───X^t───Rz(0.5π)───@────────────\n"
     ]
    }
   ],
   "source": [
    "\"\"\"Implementation of the VQSD algorithm [La2018] on a simple one qubit state.\"\"\"\n",
    "# ====================\n",
    "# get number of qubits\n",
    "# ====================\n",
    "n = 2\n",
    "qbits = [cirq.LineQubit(x) for x in range(n)]\n",
    "\n",
    "# =========================\n",
    "# state preparation circuit\n",
    "# =========================\n",
    "prep = cirq.Circuit()\n",
    "prep.append(cirq.H(qbits[x]) for x in range(n))\n",
    "\n",
    "# ==============\n",
    "# ansatz circuit\n",
    "# ==============\n",
    "ansatz = cirq.Circuit()\n",
    "gate0 = cirq.Rz(rads=np.pi / 2)\n",
    "gate1 = cirq.XPowGate(exponent=cirq.Symbol(\"t\"))\n",
    "ansatz.append([[gate0(qbits[x]), gate1(qbits[x]), gate0(qbits[x])] for x in range(2)],\n",
    "             strategy=cirq.InsertStrategy.EARLIEST)\n",
    "\n",
    "# ==========================\n",
    "# \"diagonality\" test circuit\n",
    "# ==========================\n",
    "diag = cirq.Circuit()\n",
    "diag.append([cirq.CNOT(qbits[1], qbits[0]), cirq.measure(qbits[0], key=\"z\")])\n",
    "\n",
    "# ================\n",
    "# complete circuit\n",
    "# ================\n",
    "circ = prep + ansatz + diag\n",
    "\n",
    "# =========================\n",
    "# sweep over the parameters\n",
    "# =========================\n",
    "reps = 10000\n",
    "simulator = cirq.google.XmonSimulator()\n",
    "sweep = (cirq.Linspace(key=\"t\", start=0, stop=1, length=100))\n",
    "vals = simulator.run_sweep(circ, sweep, repetitions=reps)\n",
    "\n",
    "# print out the circuit\n",
    "print(circ)"
   ]
  },
  {
   "cell_type": "markdown",
   "metadata": {},
   "source": [
    "<p style=\"text-align: justify;\"> \n",
    "The complete circuit for the VQSD algorithm is shown above. (Note that this can be easily simplified to contain only one qubit, but here we stick to the general formulation of the algorithm.) We now plot the \"degree of diagonality\" vs. the parameter $t$, which ranges from zero to one, in the plot below.\n",
    "</p>"
   ]
  },
  {
   "cell_type": "code",
   "execution_count": 74,
   "metadata": {
    "scrolled": true
   },
   "outputs": [
    {
     "data": {
      "image/png": "[encoded data removed]",
      "text/plain": [
       "<Figure size 432x288 with 1 Axes>"
      ]
     },
     "metadata": {},
     "output_type": "display_data"
    }
   ],
   "source": [
    "# plot the degree of diagonality vs. the parameter t\n",
    "tvals = [x[0][1] for x in sweep.param_tuples()]\n",
    "cvals = [vals[i].histogram(key=\"z\")[0]/reps for i in range(len(vals))]\n",
    "plt.plot(tvals, cvals, \"-o\", linewidth=2)\n",
    "\n",
    "# plot style\n",
    "plt.grid(); plt.xlabel(\"t\"); plt.ylabel(\"Degree of Diagonality\"); plt.title(\"Diagonalizing a one-qubit state with VQSD\");"
   ]
  },
  {
   "cell_type": "markdown",
   "metadata": {},
   "source": [
    "<p style=\"text-align: justify;\"> \n",
    "Here we can see that the state $\\rho' := U(t) \\rho U(t)^\\dagger$ is the most diagonal at the value of $t = 1/2$. A simple classical calculation using matrix arithmetic shows that $\\rho'$ is indeed diagonal in the computational basis when $t = 1/2$. \n",
    "</p>"
   ]
  },
  {
   "cell_type": "markdown",
   "metadata": {},
   "source": [
    "# <p style=\"text-align: center;\"> V. Comparisons and Conclusions </p> "
   ]
  },
  {
   "cell_type": "markdown",
   "metadata": {},
   "source": [
    "<p style=\"text-align: justify;\"> \n",
    "In this final section we offer concluding remarks about Cirq. The purpose of this article was to introduce and analyze Cirq in a similar fashion to the paper <a href=\"#LaR2018\">[LaR2018]</a> comparing Forest (pyQuil), QISKit, ProjectQ, and the Quantum Developer Kit (Q#). We hope at this point the reader will be able to come to his/her own conclusions about Cirq's place in the quantum software community. (Recalling again that Cirq is still alpha software.)\n",
    "</p>\n",
    "\n",
    "<p style=\"text-align: justify;\"> \n",
    "In general, we find that Cirq is already a fantastic tool for writing, manipulating, optimizing, compiling, and simulating quantum circuits. The learning curve for Cirq is small as the language is written in Python and the syntax/organization of the code is very clean. (We do note that Cirq is written with function annotations in Python which in several cases can be rather verbose.) We expect the platform to keep improving as quantum hardware and other simulators are made available. We find the tools for working with variational quantum algorithms to be one of the best features of Cirq. (It should be noted that Forest has emphasis on this feature as well, but currently the functionality is smoother with Cirq in the author's opinion.) The integration with OpenFermion will likely lead to one of the best tools for quantum simulation algorithms. The simulators of Cirq are both great utilities though not as high-performance as the simulator in ProjectQ. Finally, we expect the quantum channel and stabilizer code features of Cirq to be interesting and useful once they are released.\n",
    "</p>\n",
    "\n",
    "<p style=\"text-align: justify;\"> \n",
    "Probably the biggest missing feature of Cirq is the ability to simulate noisy quantum circuits, which Forest and QISKit do very well. (We expect this feature to be released in future versions.) As was seen in the quantum teleportation algorithm, the ability to implement classical operations in circuits, a feature emphasized by the Forest platform, is entirely missing in Cirq. Additionally, the documentation, tutorials, and library support of Cirq are much more sparse than Forest, QISKit, the QDK, and even ProjectQ. (Again, the alpha disclaimer is important here.) Currently, users of Cirq will not be able to connect to real quantum computers as they would with Forest, QISKit, or ProjectQ. Once Foxtail and/or Bristlecone are made available over the cloud, however, this will of course change.\n",
    "</p>\n",
    "\n",
    "<p style=\"text-align: justify;\"> \n",
    "The addition of Cirq to the quantum software community provides excellent tools for working with circuits for near-term quantum computers, and will soon offer connectivity to some of the world's most advanced quantum computers. We hope that this article provides a fair introduction and overview of the platform. For readers who wish to explore Cirq further, we recommend the <a href=\"https://cirq.readthedocs.io/en/stable/api.html\">API Reference of the documentation.</a>\n",
    "</p>"
   ]
  },
  {
   "cell_type": "markdown",
   "metadata": {},
   "source": [
    "# <p style=\"text-align: center;\"> References </p> "
   ]
  },
  {
   "cell_type": "markdown",
   "metadata": {},
   "source": [
    "<a name=\"Al2018\">[Al2018]</a> A. Ho and D. Bacon, \"Announcing Cirq: An Open Source Framework for NISQ Algorithms,\" <a href=\"https://ai.googleblog.com/2018/07/announcing-cirq-open-source-framework.html\">https://ai.googleblog.com/2018/07/announcing-cirq-open-source-framework.html</a>, Jul. 2018.\n",
    "\n",
    "<a name=\"An2018\">[An2018]</a> E. R. Anschuetz, J. P. Olson, A. Aspuru-Guzik, and Y. Cao, “Variational Quantum Factoring,” arXiv:1808.08927 [quant-ph], Aug. 2018.\n",
    "\n",
    "<a name=\"Du2018\">[Du2018]</a> Dumitrescu, E. F. et al. Cloud Quantum Computing of an Atomic Nucleus. Physical Review Letters 120, (2018).\n",
    "\n",
    "<a name=\"Fa2014\">[Fa2014]</a>] E. Farhi, J. Goldstone, and S. Gutmann, “A Quantum Approximate Optimization Algorithm,” arXiv:1411.4028 [quant-ph], Nov. 2014.\n",
    "\n",
    "<a name=\"Kh2018\">[Kh2018]</a> S. Khatri, R. LaRose, A. Poremba, L. Cincio, A. T. Sornborger, and P. J. Coles, “Quantum-assisted quantum compiling,” arXiv:1807.00800 [quant-ph], Jul. 2018.\n",
    "\n",
    "<a name=\"La2018\">[La2018]</a> R. LaRose, A. Tikku, É. O’Neel-Judy, L. Cincio, and P. J. Coles, “Variational Quantum State Diagonalization,” arXiv:1810.10506 [quant-ph], Oct. 2018.\n",
    "\n",
    "<a name=\"LaR2018\">[LaR2018]</a> R. LaRose, “Overview and Comparison of Gate Level Quantum Software Platforms,” arXiv:1807.02500 [quant-ph], Jul. 2018.\n",
    "\n",
    "<a name=\"Ma2018\">[Ma2018]</a> I. L. Markov, A. Fatima, S. V. Isakov, and S. Boixo, “Quantum Supremacy Is Both Closer and Farther than It Appears,” arXiv:1807.10749 [quant-ph], Jul. 2018.\n",
    "\n",
    "<a name=\"Ne2017\">[Ne2017]</a> C. Neill et al., “A blueprint for demonstrating quantum supremacy with superconducting qubits,” Sep. 2017.\n",
    "\n",
    "<a name=\"Pe2014\">[Pe2014]</a> A. Peruzzo et al., “A variational eigenvalue solver on a quantum processor,” Nature Communications, vol. 5, no. 1, Dec. 2014.\n",
    "\n",
    "<a name=\"Wa2018\">[Wa2018]</a> Z. Wang, S. Hadfield, Z. Jiang, and E. G. Rieffel, “The Quantum Approximation Optimization Algorithm for MaxCut: A Fermionic View,” Physical Review A, vol. 97, no. 2, Feb. 2018."
   ]
  }
 ],
 "metadata": {
  "kernelspec": {
   "display_name": "Python 3",
   "language": "python",
   "name": "python3"
  },
  "language_info": {
   "codemirror_mode": {
    "name": "ipython",
    "version": 3
   },
   "file_extension": ".py",
   "mimetype": "text/x-python",
   "name": "python",
   "nbconvert_exporter": "python",
   "pygments_lexer": "ipython3",
   "version": "3.6.4"
  }
 },
 "nbformat": 4,
 "nbformat_minor": 2
}
